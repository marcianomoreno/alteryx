{
 "cells": [
  {
   "cell_type": "markdown",
   "metadata": {},
   "source": [
    "# Programación orientada a objetos\n",
    "La programación orientada a objetos es un paradigma de programación basada en el concepto de objetos que contienen datos y código. Los datos se representan en la forma de campos (también referidos como atributos o propiedades) y código, en la forma de procedimientos (conocidos como métodos).\n",
    "\n",
    "Simula 67 fue el primer lenguaje orientado a objetos. Smalltalk catalizó el crecimiento de programación orientada a objetos en la década de 1970.\n",
    "\n",
    "Los principios que sustentan a la programación orientada a objetos son:\n",
    "* Encapsulación\n",
    "* Abstracción de datos\n",
    "* Polimorfismo\n",
    "* Herencia"
   ]
  },
  {
   "cell_type": "markdown",
   "metadata": {},
   "source": [
    "En Python todo son objetos: tipos de datos, funciones, módulos, paquetes. "
   ]
  },
  {
   "cell_type": "code",
   "execution_count": null,
   "metadata": {},
   "outputs": [],
   "source": [
    "import math\n",
    "def double(x):\n",
    "    return x*2\n",
    "\n",
    "some_objects = [1, 9.99, True, \"Some string\", double,  math]\n",
    "\n",
    "for _ in some_objects:\n",
    "    print(type(_))"
   ]
  },
  {
   "cell_type": "markdown",
   "metadata": {},
   "source": [
    "Las clases constan de dos partes: el encabezado y el cuerpo. El encabezado inicia con la palabra reservada `class` seguida por un espacio y un nombre arbitrario de la clase. Posteriormente se especifican las clases de las que hereda, conocidas como superclases o clases padre. \n",
    "\n",
    "El cuerpo de la clase consta de un bloque indentado de estatutos. "
   ]
  },
  {
   "cell_type": "code",
   "execution_count": null,
   "metadata": {},
   "outputs": [],
   "source": [
    "class Drone:\n",
    "    flies = False\n",
    "\n",
    "if __name__ == \"__main__\":\n",
    "    drone_instance = Drone()\n",
    "    y = Drone()\n",
    "    y2 = y\n",
    "    print(y == y2)\n",
    "    print(y == drone_instance)"
   ]
  },
  {
   "cell_type": "code",
   "execution_count": null,
   "metadata": {},
   "outputs": [],
   "source": [
    "id(y)"
   ]
  },
  {
   "cell_type": "code",
   "execution_count": null,
   "metadata": {},
   "outputs": [],
   "source": [
    "id(y2)"
   ]
  },
  {
   "cell_type": "markdown",
   "metadata": {},
   "source": [
    "En Python es posible crear atributos de forma dinámica para una clase. Esto se logra con un estatuto con el nombre de la instancia, el símbolo punto `.` y el nombre del atributo seguidos por el símbolo de igual `=` y el valor del atributo."
   ]
  },
  {
   "cell_type": "code",
   "execution_count": null,
   "metadata": {},
   "outputs": [],
   "source": [
    "drone_instance.name = \"Mavic 3\"\n",
    "drone_instance.launch_weight = 3.895\n",
    "\n",
    "\n",
    "y.name = \"Air 2S\"\n",
    "y.launch_weight = 595\n",
    "y.max_flight = 18.5\n",
    "\n",
    "drones = [drone_instance, y]\n",
    "for _ in drones:\n",
    "    print(_.name, _.launch_weight)"
   ]
  },
  {
   "cell_type": "markdown",
   "metadata": {},
   "source": [
    "Las instancias de una clase poseen un atributo `__dict__` en el cual se almacenan sus atributos y valores correspondientes."
   ]
  },
  {
   "cell_type": "code",
   "execution_count": null,
   "metadata": {},
   "outputs": [],
   "source": [
    "y.__dict__"
   ]
  },
  {
   "cell_type": "markdown",
   "metadata": {},
   "source": [
    "Los atributos pueden estar asociados con la clase, en vez de las instancias. En este caso las instancias harán referencia al valor del atributo de la clase, a menos que se haya asignado un valor a ese atributo en la instancia."
   ]
  },
  {
   "cell_type": "code",
   "execution_count": null,
   "metadata": {},
   "outputs": [],
   "source": [
    "Drone.flies = True\n",
    "y.flies\n",
    "y.__dict__"
   ]
  },
  {
   "cell_type": "code",
   "execution_count": null,
   "metadata": {},
   "outputs": [],
   "source": [
    "Drone.__dict__"
   ]
  },
  {
   "cell_type": "markdown",
   "metadata": {},
   "source": [
    "En caso que una instancia no tenga un atributo, empleado en otras y no definida a nivel de la clase se producirá una excepción."
   ]
  },
  {
   "cell_type": "code",
   "execution_count": null,
   "metadata": {},
   "outputs": [],
   "source": [
    "drone_instance.max_flight = 50\n",
    "drone_instance.max_flight\n",
    "Drone.max_flight = False\n",
    "new \n"
   ]
  },
  {
   "cell_type": "markdown",
   "metadata": {},
   "source": [
    "Para evitar esta excepción se hace uso del método `getattr`."
   ]
  },
  {
   "cell_type": "code",
   "execution_count": null,
   "metadata": {},
   "outputs": [],
   "source": [
    "getattr(drone_instance, 'min_flight', 1000)"
   ]
  },
  {
   "cell_type": "code",
   "execution_count": null,
   "metadata": {},
   "outputs": [],
   "source": [
    "drone_instance.__dict__"
   ]
  },
  {
   "cell_type": "markdown",
   "metadata": {},
   "source": [
    "Es posible invocar una función con un objeto:"
   ]
  },
  {
   "cell_type": "code",
   "execution_count": null,
   "metadata": {},
   "outputs": [],
   "source": [
    "def fly(obj):\n",
    "    print(\"Starting flight on\", obj.name, sep=\" \")\n",
    "class Drone:\n",
    "    pass\n",
    "x = Drone()\n",
    "x.name = \"brave-flyer\"\n",
    "fly(x)\n"
   ]
  },
  {
   "cell_type": "markdown",
   "metadata": {},
   "source": [
    "También en Python es posible añadir una función como parte de los miembros de una clase:"
   ]
  },
  {
   "cell_type": "code",
   "execution_count": null,
   "metadata": {},
   "outputs": [],
   "source": [
    "def fly_external(obj):\n",
    "    print(\"Starting flight on\", obj.name, sep=\" \")\n",
    "class Drone:\n",
    "    fly = fly_external\n",
    "\n",
    "x = Drone()\n",
    "x.name = \"DJI\"\n",
    "Drone.fly(x)\n",
    "type(Drone.fly)"
   ]
  },
  {
   "cell_type": "markdown",
   "metadata": {},
   "source": [
    "Si bien Python admite asociar funciones externas a clases, la forma recomendada de hacerlo es:\n",
    "* Definir el método dentro de la definición de la clase.\n",
    "* Especificar como `self` el primer parámetro que está asociado a la referencia de la instancia que está recibiendo la invocación del método.\n",
    "\n",
    "Los métodos en programación orientada a objetos difieren de las funciones de programación estructurada en lo siguiente:\n",
    "* Los métodos son definidos y pertenecen a una clase, no pueden accederse de forma independiente.\n",
    "* El primer parámetro es la referencia a la instancia denominado `self`."
   ]
  },
  {
   "cell_type": "markdown",
   "metadata": {},
   "source": [
    "El método `__init__`\n",
    "Es posible definir atributos de una instancia justo después de ser creada. El método `__init__` se invoca automáticamente cuando la instancia es creada. Python carece de elementos del lenguaje relacionados con constructores y destructores, a diferencia de C++ y Java."
   ]
  },
  {
   "cell_type": "code",
   "execution_count": null,
   "metadata": {},
   "outputs": [],
   "source": [
    "class A:\n",
    "    def __init__(self):\n",
    "        print(\"starting __init__\")\n",
    "\n",
    "some_A = A()"
   ]
  },
  {
   "cell_type": "code",
   "execution_count": 61,
   "metadata": {},
   "outputs": [
    {
     "name": "stdout",
     "output_type": "stream",
     "text": [
      "Employee id: 101, status: active,  ssn 1234\n"
     ]
    }
   ],
   "source": [
    "class Employee:\n",
    "    #class attributes\n",
    "    status = \"active\"\n",
    "    number_of_employee = 0\n",
    "\n",
    "    def __init__(self, employee_id, name, ssn):\n",
    "        self.employee_id = employee_id #instance attribute\n",
    "        self.name = name #instance attribute\n",
    "        self.__social_security_number = ssn\n",
    "        Employee.number_of_employee += 1\n",
    "    def __str__(self):\n",
    "        return(\"Employee id: {}, status: {},  ssn {}\".format(self.employee_id,self.status, self.__social_security_number))\n",
    "\n",
    "    #instance method\n",
    "    def give_info(self):\n",
    "        print(\"Name: \", self.name, \"\\nID: \", self.employee_id)\n",
    "\n",
    "emre = Employee(\"101\", \"Emre Kutlug\", 1234)\n",
    "print(emre)\n"
   ]
  },
  {
   "cell_type": "code",
   "execution_count": null,
   "metadata": {},
   "outputs": [],
   "source": [
    "class TrustedEmployee(Employee):\n",
    "    def __init__(self, security_token):\n",
    "        self.__security_token = security_token\n",
    "\n",
    "    def __init__(self, employee_id, name, ssn, security_token):\n",
    "        super().__init__(employee_id, name, ssn)\n",
    "        #Employee(self).__social_security_number\n",
    "\n",
    "        self.__security_token = security_token\n",
    "\n",
    "joe = TrustedEmployee(\"101\", \"Emre Kutlug\", 1234, 1234)\n",
    "joe.name = \"Joe\"\n",
    "joe.employee_id = 12\n",
    "joe.give_info()\n",
    "#joe.__social_security_number = 123123\n",
    "joe.__social_security_number\n",
    "\n"
   ]
  },
  {
   "cell_type": "code",
   "execution_count": null,
   "metadata": {},
   "outputs": [],
   "source": [
    "emre.__str__\n",
    "print(emre)"
   ]
  },
  {
   "cell_type": "code",
   "execution_count": null,
   "metadata": {},
   "outputs": [],
   "source": [
    "some_list =  [1, 2, 3]\n",
    "print(some_list)"
   ]
  },
  {
   "cell_type": "code",
   "execution_count": 62,
   "metadata": {},
   "outputs": [],
   "source": [
    "class FamilyMember(object):\n",
    "    def __init__(self, relation_type):\n",
    "        self.__relation_type = relation_type\n",
    "        \n"
   ]
  },
  {
   "cell_type": "code",
   "execution_count": null,
   "metadata": {},
   "outputs": [],
   "source": [
    "jane = FamilyMember(\"wife\")"
   ]
  },
  {
   "cell_type": "code",
   "execution_count": 85,
   "metadata": {},
   "outputs": [
    {
     "data": {
      "text/plain": [
       "{'employee_id': 123,\n",
       " 'name': 'Jolie',\n",
       " '_Employee__social_security_number': 999,\n",
       " '_FamilyMember__relation_type': 'Unrelated',\n",
       " '_FamilyEmployee__conflict_of_interest': False}"
      ]
     },
     "execution_count": 85,
     "metadata": {},
     "output_type": "execute_result"
    }
   ],
   "source": [
    "class FamilyEmployee(Employee, FamilyMember):\n",
    "    __conflict_of_interest = False\n",
    "    def __init__(self, employee_id, name, ssn, relation_type):\n",
    "        #super().__init__(employee_id, name, ssn)\n",
    "        #super().__init__(relation_type)\n",
    "        Employee.__init__(self, employee_id, name, ssn)\n",
    "        FamilyMember.__init__(self, relation_type)\n",
    "        #super(Employee, self).__init__()\n",
    "        #super(FamilyMember, self).__init__()\n",
    "        #Employee(self).__init__(name, ssn)\n",
    "        #FamilyMember(self).__init__(relation_type)\n",
    "        if relation_type == \"Wife\":\n",
    "            self.__conflict_of_interest = True\n",
    "        else:\n",
    "            self.__conflict_of_interest = False\n",
    "\n",
    "\n",
    "\n",
    "jolie = FamilyEmployee(123, \"Jolie\", 999, \"Wife\")\n",
    "peter = FamilyEmployee(123, \"Jolie\", 999, \"Unrelated\")\n",
    "peter.__dict__\n",
    "\n",
    "\n",
    "    \n",
    "    \n",
    "    "
   ]
  },
  {
   "cell_type": "markdown",
   "metadata": {},
   "source": [
    "# Callables\n"
   ]
  },
  {
   "cell_type": "code",
   "execution_count": 86,
   "metadata": {},
   "outputs": [
    {
     "name": "stdout",
     "output_type": "stream",
     "text": [
      "The answer: True\n"
     ]
    }
   ],
   "source": [
    "def some_answer(question):\n",
    "    return 66\n",
    "print(\"The answer:\" , callable(some_answer))"
   ]
  },
  {
   "cell_type": "code",
   "execution_count": 88,
   "metadata": {},
   "outputs": [
    {
     "data": {
      "text/plain": [
       "'soap shampoo Some more materials'"
      ]
     },
     "execution_count": 88,
     "metadata": {},
     "output_type": "execute_result"
    }
   ],
   "source": [
    "class MaterialSupply:\n",
    "    def __init__(self, *materials):\n",
    "        self.materials = materials\n",
    "    def __call__(self):\n",
    "        result = \" \".join(self.materials) + \" Some more materials\"\n",
    "        return result\n",
    "materials = MaterialSupply(\"soap\", \"shampoo\")\n",
    "materials()"
   ]
  },
  {
   "cell_type": "code",
   "execution_count": 96,
   "metadata": {},
   "outputs": [
    {
     "name": "stdout",
     "output_type": "stream",
     "text": [
      "Before invocation sin\n",
      "0.8939966636005579\n",
      "After invocation sin\n"
     ]
    },
    {
     "data": {
      "text/plain": [
       "0.8939966636005579"
      ]
     },
     "execution_count": 96,
     "metadata": {},
     "output_type": "execute_result"
    }
   ],
   "source": [
    "from math import sin, cos\n",
    "def some_decorator(func):\n",
    "    def function_wrapper(x):\n",
    "        print(\"Before invocation \" + func.__name__)\n",
    "        res = func(x)\n",
    "        print(res)\n",
    "        print(\"After invocation \" + func.__name__)\n",
    "        return res\n",
    "    return function_wrapper\n",
    "\n",
    "sin = some_decorator(sin)\n",
    "value = sin(90)\n",
    "type(value )\n",
    "value\n"
   ]
  },
  {
   "cell_type": "code",
   "execution_count": 109,
   "metadata": {},
   "outputs": [
    {
     "name": "stdout",
     "output_type": "stream",
     "text": [
      "__init__ de SimpleDecorator invocado con initival:  yellow\n",
      "yellow\n",
      "<__main__.MyClass object at 0x000001634F1FB220> <class '__main__.MyClass'>\n",
      "yellow\n",
      "None\n",
      "{}\n",
      "__init__ de SimpleDecorator invocado con initival:  {'color': 'black', 'origin': 'china'}\n",
      "{'color': 'black', 'origin': 'china'}\n"
     ]
    },
    {
     "ename": "AttributeError",
     "evalue": "'Drone' object has no attribute '__get__'",
     "output_type": "error",
     "traceback": [
      "\u001b[1;31m---------------------------------------------------------------------------\u001b[0m",
      "\u001b[1;31mAttributeError\u001b[0m                            Traceback (most recent call last)",
      "\u001b[1;32m~\\AppData\\Local\\Temp/ipykernel_32288/813287361.py\u001b[0m in \u001b[0;36m<module>\u001b[1;34m\u001b[0m\n\u001b[0;32m     24\u001b[0m \u001b[1;33m\u001b[0m\u001b[0m\n\u001b[0;32m     25\u001b[0m \u001b[0md\u001b[0m \u001b[1;33m=\u001b[0m \u001b[0mDrone\u001b[0m\u001b[1;33m(\u001b[0m\u001b[1;33m)\u001b[0m\u001b[1;33m\u001b[0m\u001b[1;33m\u001b[0m\u001b[0m\n\u001b[1;32m---> 26\u001b[1;33m \u001b[0md\u001b[0m\u001b[1;33m.\u001b[0m\u001b[0m__get__\u001b[0m\u001b[1;33m(\u001b[0m\u001b[1;34m\"color\"\u001b[0m\u001b[1;33m)\u001b[0m\u001b[1;33m\u001b[0m\u001b[1;33m\u001b[0m\u001b[0m\n\u001b[0m\u001b[0;32m     27\u001b[0m \u001b[1;33m\u001b[0m\u001b[0m\n\u001b[0;32m     28\u001b[0m \u001b[1;33m\u001b[0m\u001b[0m\n",
      "\u001b[1;31mAttributeError\u001b[0m: 'Drone' object has no attribute '__get__'"
     ]
    }
   ],
   "source": [
    "class SimpleDescriptor(object):\n",
    "    \"\"\"\n",
    "    Un descriptor de datos de ejemplo para asignar y regresar valores\n",
    "    \"\"\"\n",
    "    def __init__(self, initval = None):\n",
    "        print(\"__init__ de SimpleDecorator invocado con initival: \", initval)\n",
    "        self.__set__(self, initval)\n",
    "    def __get__(self, instance, owner):\n",
    "        print(instance, owner)\n",
    "        print(self.val)\n",
    "    def __set__(self, instance, value):\n",
    "        print(value)\n",
    "        self.val = value\n",
    "    \n",
    "class MyClass(object):\n",
    "    x = SimpleDescriptor(\"yellow\")\n",
    "m = MyClass()\n",
    "print(m.x)\n",
    "type(m)\n",
    "print(m.__dict__)\n",
    "\n",
    "class Drone(object):\n",
    "    x = SimpleDescriptor({\"color\": \"black\", \"origin\": \"china\"})\n",
    "\n",
    "d = Drone()\n",
    "d.__get__(\"color\")\n",
    "\n",
    "    \n",
    "    "
   ]
  }
 ],
 "metadata": {
  "interpreter": {
   "hash": "dff1176a825098967b08dbdbf002aed5f4d2fbc0230cbe7a7b9c071948b7fba3"
  },
  "kernelspec": {
   "display_name": "Python 3.8.12 64-bit ('alteryx': conda)",
   "language": "python",
   "name": "python3"
  },
  "language_info": {
   "codemirror_mode": {
    "name": "ipython",
    "version": 3
   },
   "file_extension": ".py",
   "mimetype": "text/x-python",
   "name": "python",
   "nbconvert_exporter": "python",
   "pygments_lexer": "ipython3",
   "version": "3.8.12"
  },
  "orig_nbformat": 4
 },
 "nbformat": 4,
 "nbformat_minor": 2
}
