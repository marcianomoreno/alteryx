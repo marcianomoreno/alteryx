{
 "cells": [
  {
   "cell_type": "markdown",
   "metadata": {},
   "source": [
    "# Introducción a Git"
   ]
  },
  {
   "cell_type": "markdown",
   "metadata": {},
   "source": [
    "Control de versiones se refiere a la gestión de cambios efectuados en un sistema, el cual no tiene que ser necesariamente de software. \n",
    "\n",
    "El uso adecuado de un sistema de control de versiones evita práctica no recomendadas como guardar copia de los archivos de proyecto en directorios independientes o mantener versiones previas del código en los mismos archivos de código fuente.\n",
    "\n",
    "Las herramientas de control de versiones proveen las siguientes capacidades:\n",
    "* Reversibilidad: regresar a cualquier punto en la historia de cambios del código fuente.\n",
    "* Concurrencia: permitir que múltiples personas trabajen en el mismo proyecto.\n",
    "* Anotación: Añadir explicaciones y comentarios respecto a los cambios efectuados.\n",
    "\n"
   ]
  },
  {
   "cell_type": "markdown",
   "metadata": {},
   "source": [
    "# Concepto de Git"
   ]
  },
  {
   "cell_type": "markdown",
   "metadata": {},
   "source": [
    "Git es un sistema para dar seguimiento a cambios en un conjunto de archivos, empleado generalmente para coordinar el trabajo de desarrolladores trabajando de forma colaborativa en la implementación de código fuente durante el proceso de desarrollo de software. Sus metas incluyen velocidad, integridad de datos y soporte para flujos de trabajo no lineales (miles de branches en paralelo corriendo en diferentes sistemas).\n",
    "\n",
    "Creado por Linus Torvals en 2005 para desarrollar el kernel de Linux, con otros desarrolladores del kernel contribuyendo a su desarrollo inicial. Desde 2005. Junio Hamano ha sido el responsable del mantenimiento de Git. En Git, como es el caso en la mayoría de los sistemas de control de versiones distribuidos y a diferencia de sistemas cliente servidor, todo directorio de Git en toda computadora es un repositorio completo con la historia completa y capacidades completas de seguimiento a versiones, con independencia de un servidor central. Git es gratuito y open source distribuido por medio de la licencia GPL-2.0.\n"
   ]
  },
  {
   "cell_type": "markdown",
   "metadata": {},
   "source": [
    "# Instalación de Git\n",
    "Git está disponible para múltiples plataformas:\n",
    "\n",
    "[Git para todas las plataformas](https://git-scm.com)\n",
    "\n",
    "Aquí se encuentran las distribuciones de Git para Linux y sistemas POSIX, además de Windows y Mac. Todas ellas en modalidad interfaz de línea de comando."
   ]
  },
  {
   "cell_type": "markdown",
   "metadata": {},
   "source": [
    "# GitHub"
   ]
  },
  {
   "cell_type": "markdown",
   "metadata": {},
   "source": [
    "GitHub es es un proveedor de hosting y software empleando Git. Ofrece la funcionalidad de control de versiones distribuidas y de código fuente de Git, además de sus propias características, incluyendo seguimiento a problemas, solicitud de características, administración de tareas, integración continua, entre otras.\n",
    "\n",
    "GitHub Desktop es un cliente basado en interfaz gráfica, adecuado para usuarios nuevos o expertos en Git que simplifica el flujo de trabajo de desarrollo. El cliente de escritorio de GitHub se encuentra disponible para descarga:\n",
    "\n",
    "[GitHub para Windows](https://windows.github.com)\n",
    "\n",
    "[GitHub para Mac](https://mac.github.com)"
   ]
  },
  {
   "cell_type": "markdown",
   "metadata": {},
   "source": [
    "# Configuración de Git\n",
    "Es necesario configurar Git para identificar al autor de los cambios efectuados en un repositorio.\n",
    "\n",
    "`git config --global user.name \"[name]\"`\n",
    "\n",
    "Asigna el nombre que será registrado en las transacciones commit.\n",
    "\n",
    "`git config --global user.email \"[email address]\"`\n",
    "\n",
    "Asigna el correo electrónico anexado a las transacciones commit."
   ]
  },
  {
   "cell_type": "markdown",
   "metadata": {},
   "source": [
    "# Creación de un repositorio\n",
    "Existen diversas formas de crear un repositorio:\n",
    "* De forma local, para posteriormente publicarlo en GitHub.com\n",
    "* Clonado desde un respositorio existente en GitHub.com\n",
    "\n",
    "`git init`\n",
    "\n",
    "Convierte un directorio existente en un repositorio de Git.\n",
    "\n",
    "`git clone [url]`\n",
    "\n",
    "Clona (descarga) un repositorio existente en GitHub, incluyendo todos los archivos, branches y commits."
   ]
  },
  {
   "cell_type": "markdown",
   "metadata": {},
   "source": [
    "# El archivo .gitignore\n",
    "El archivo .gitignore permite excluir algunos archivos del seguimiento de Git, como puede ser el caso para archivos compilados y módulos empaquetados de software.\n",
    "\n",
    "GitHub cuenta con [plantillas de archivos .gitignore](https://github.com/github/gitignore) para diversos lenguajes de programación."
   ]
  },
  {
   "cell_type": "markdown",
   "metadata": {},
   "source": [
    "# El Directorio de Trabajo (Working Tree o Workspace)\n",
    "\n",
    "Se refiere al área donde se lleva a cabo el trabajo. Aquí residen los archivos nuevos y aquellos con estatus \"untracked\" de Git. Cualquier cambio a los archivos será marcado y visto en Working Tree. Si se hacen cambios y no se guardan explícitamente en Git, se perderán. Esta pérdida de cambios corre porque git no tiene conocimiento de los archivos y sus cambios.\n",
    "\n",
    "Para visualizar los archivos en el Working Tree se usa el comando `git status`, examinando el apartado **Untracked files**."
   ]
  },
  {
   "cell_type": "markdown",
   "metadata": {},
   "source": [
    "# El área Staging (Index)\n",
    "El área Staging es donde git comienza a dar seguimiento y guardar los cambios que ocurren en los archivos. Los cambios guardados se reflejan en el directorio `.git`. Cuando se hace cualquier cambio después de añadir un archivo al área Staging, git no tendrá conocimiento de estos cambios hasta que no se le indique explícitamente al respecto.\n",
    "\n",
    "Para añadir un archivo a Staging se utiliza el comando `git add filename.ext`. Para añadir todos los archivos del Working Tree a Staging es posible emplear el comando `git add .`, donde el símbolo `.` representa a todos los archivos.\n",
    "\n",
    "El comando `git status` lista los archivos en Staging, en el apartado **Changes not staged for commit**."
   ]
  },
  {
   "cell_type": "markdown",
   "metadata": {},
   "source": [
    "# El repositorio local\n",
    "El repositorio local es todo en el directorio .git. Aquí se encuentran todos los committs, también conocidos como puntos de revisión (checkpoints). Es el área donde se lleva el control de todos los cambios.\n",
    "\n",
    "El comando `git commit` añade los elementos de Staging al repositorio local. Un commit es un punto de verificación que indica a git que registre todos los cambios que han ocurrido hasta ese momento, utilizando el último commit como punto de comparación. El área Staging aparece vacía después de invocar el comando commit.\n",
    "\n",
    "Existen diversos comandos para examinar lo que está en el repositorio local.\n",
    "\n",
    "`git ls-tree --full-tree -r HEAD` muestra todos los archivos gestionados en un repositorio git.\n",
    "\n",
    "`git log` muestra una bitácora de todos los checkpoints previos en el repositorio. \n",
    "\n",
    "`git show commit_num` muestra más información respecto a un commit específico."
   ]
  },
  {
   "cell_type": "markdown",
   "metadata": {},
   "source": [
    "# Repositorio remoto\n",
    "Git, siendo un sistema de control de versiones distribuido, permite tener una copia del repositorio en un servidor remoto para habilitar la colaboración con múltiples desarrolladores.\n",
    "\n",
    "Existen diversas opciones para crear un repositorio remoto:\n",
    "* En la interfaz Web de GitHub.com.\n",
    "* Por medio de CLI de GitHub.\n",
    "\n",
    "Para asociar el repositorio remoto con el repositorio local:\n",
    "`git remote add origin [remote-url]`\n",
    "\n",
    "Cabe mencionar que `origin` es el nombre que se usa por omisión en Git para identificar un repositorio remoto.\n",
    "\n",
    "Comandos frecuentes para sincronizar un repositorio local con un repositorio remoto en GitHub.com\n",
    "\n",
    "`git fetch` descarga toda la historia los branches a los que se les esté dando seguimiento en el remote.\n",
    "\n",
    "`git merge` combina el branch remoto con el branch local activo.\n",
    "\n",
    "`git push` publica todos los commits locales del branch a GitHub.\n",
    "\n",
    "`git pull` actualiza el branch local activo con todos los nuevos commits del branch remoto correspondiente en GitHub. `git pull` es una combinación de `git fetch` con `git merge`\n"
   ]
  },
  {
   "cell_type": "markdown",
   "metadata": {},
   "source": [
    "# Stash\n",
    "En ocasiones es necesario hace un cambio de branch para hacer una consulta o una tarea distinta. Si el directorio de trabajo se encuentra limpio, el cambio de branch puede hacerse sin inconveniente.\n",
    "\n",
    "El reto ocurre porque frecuentemente al trabajar en un proyecto, los archivos se encuentran en un estado intermedio (trabajo en proceso, errores en proceso de resolución) que es necesario mantener antes de efectuar un cambio de branch. En este caso, el uso de commit no es adecuado, ya que el commit debe efectuarse para checkpoints de código funcional.\n",
    "\n",
    "El proceso Stashing toma el estado -posiblemente \"sucio\"- del directorio de trabajo incluyendo archivos a los cuales se les esté dando seguimiento y cambios en el área de Staging y los almacena en una pila de cambios que se pueden reaplicar en cualquier momento (incluso en un branch distinto).\n",
    "\n",
    "Los comandos `git stash` o `git stash push` mueven los cambios del directorio de trabajo al Stash.\n",
    "\n",
    "`git stash list` muestra los stashes almacenados.\n",
    "\n",
    "Para reaplicar los cambios más recientes de un stash se emplea el comando `git stash apply`, mientras que el comando `git stash apply stash@{NUM_STASH}` aplica los cambios identificados por el entero NUM_STASH."
   ]
  },
  {
   "cell_type": "markdown",
   "metadata": {},
   "source": [
    "# Branches\n",
    "Los branches son una de las características más poderosas de Git. Un branch representa una ruta independiente de desarrollo. Los branches coexisten en el mismo repositorio, cada una con su propia historia. El branch por omisión se llama `main`, en versiones previas de Git era `master`.\n",
    "\n",
    "En octubre de 2018, Internet Engineering Task Force publicó el artículo [\"Terminology, Power and Opressive Language\"](https://tools.ietf.org/id/draft-knodel-terminology-00.html#rfc.section.1.1.1) donde recomienda a autores y editores de RFCs evitar terminología opresiva.\n",
    "\n",
    "En GitHub, todos los repositorios default son nombrados `main` desde el primero de octubre de 2020, detalles al respecto en el siguiente [artículo](https://github.com/github/renaming).\n",
    "\n",
    "`git branch [branch-name]` crea un nuevo branch.\n",
    "\n",
    "`git checkout [branch-name]` cambia al branch especificado y actualiza el directorio de trabajo.\n",
    "\n",
    "`git merge [branch]` combina la historia del branch especificado en el branch vigente. Generalmente se usa el pull requests, es una operación importante de Git.\n",
    "\n",
    "`git branch -d [branch-name]` borra el branch especificado."
   ]
  },
  {
   "cell_type": "markdown",
   "metadata": {},
   "source": [
    "Cliente Git\n",
    "[configure](https://git-scm.com/book/en/v2/Getting-Started-First-Time-Git-Setup)\n",
    "\n",
    "\n",
    "Git Cheat sheet\n",
    "[Git cheatsheet](https://ndpsoftware.com/git-cheatsheet.html#loc=index;)\n",
    "\n",
    "\n",
    "Control de versiones\n",
    "Control distribuido de versiones\n",
    "Repositorio Git\n",
    "Comandos básicos de Bash y Git\n",
    "\n",
    "El flujo de trabajo de Git y el modelo de tres estados\n",
    "\n",
    "Criterios para efectuar commits en Git\n",
    "Forma de almacenamiento de los commits en Git\n",
    "Cómo efectuar branches y merges"
   ]
  },
  {
   "cell_type": "markdown",
   "metadata": {},
   "source": [
    "# El modelo de tres estados\n",
    "El concepto de repositorio en Git\n",
    "\n",
    "Comandos básicos de bash\n",
    "Comandos de git\n",
    "El flujo de trabajo de Git y el modelo de tres estados\n",
    "\n",
    "mkdir MyProject\n",
    "cd MyProject\n",
    "ls\n",
    "git init\n",
    "ls -a\n",
    "cd .git\n",
    "ls\n",
    "cd ..\n",
    "\n",
    "Working directory\n",
    "Staging Area\n",
    "Local repository\n",
    "\n",
    "git status\n",
    "git add README.md\n",
    "git commit -m \"Some message\"\n",
    "\n",
    "git status\n",
    "git log\n",
    "\n",
    "\n",
    "q to escape from git log\n",
    "\n",
    "\n",
    "\n",
    "\n"
   ]
  }
 ],
 "metadata": {
  "interpreter": {
   "hash": "dff1176a825098967b08dbdbf002aed5f4d2fbc0230cbe7a7b9c071948b7fba3"
  },
  "kernelspec": {
   "display_name": "Python 3.8.12 64-bit ('alteryx': conda)",
   "language": "python",
   "name": "python3"
  },
  "language_info": {
   "name": "python",
   "version": "3.8.12"
  },
  "orig_nbformat": 4
 },
 "nbformat": 4,
 "nbformat_minor": 2
}
