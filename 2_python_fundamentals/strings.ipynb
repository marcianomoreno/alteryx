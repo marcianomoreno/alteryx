{
 "cells": [
  {
   "cell_type": "markdown",
   "metadata": {},
   "source": [
    "# Secuencias de caracteres (strings)"
   ]
  },
  {
   "cell_type": "markdown",
   "metadata": {},
   "source": [
    "Los strings se representan por el tipo inmutable `str` que contiene una secuencia inmutable de caracteres Unicode. Es posible usar este tipo de datos como una función `str()` para crear objetos de tipo string, invocarlo sin argumentos regresa un string vacío, con un argumento distinto a un string, regresa la forma en string del argumento y con un argumento string regresa una copia del string. La función `str()` también puede emplearse como una función de conversión, el primer argumento corresponde a un string o un objeto convertible a string, el segundo especifica el encoding y el tercero especifica cómo manejar errores de codificación (encoding)."
   ]
  },
  {
   "cell_type": "code",
   "execution_count": 1,
   "metadata": {},
   "outputs": [
    {
     "data": {
      "text/plain": [
       "''"
      ]
     },
     "execution_count": 1,
     "metadata": {},
     "output_type": "execute_result"
    }
   ],
   "source": [
    "str()"
   ]
  },
  {
   "cell_type": "code",
   "execution_count": 3,
   "metadata": {},
   "outputs": [
    {
     "data": {
      "text/plain": [
       "'[1, 2, 3]'"
      ]
     },
     "execution_count": 3,
     "metadata": {},
     "output_type": "execute_result"
    }
   ],
   "source": [
    "str([1,2,3])"
   ]
  },
  {
   "cell_type": "code",
   "execution_count": 4,
   "metadata": {},
   "outputs": [
    {
     "data": {
      "text/plain": [
       "'Can I have a copy, please?'"
      ]
     },
     "execution_count": 4,
     "metadata": {},
     "output_type": "execute_result"
    }
   ],
   "source": [
    "str(\"Can I have a copy, please?\")"
   ]
  },
  {
   "cell_type": "code",
   "execution_count": 10,
   "metadata": {},
   "outputs": [
    {
     "ename": "UnicodeEncodeError",
     "evalue": "'ascii' codec can't encode character '\\U0001f600' in position 19: ordinal not in range(128)",
     "output_type": "error",
     "traceback": [
      "\u001b[1;31m---------------------------------------------------------------------------\u001b[0m",
      "\u001b[1;31mUnicodeEncodeError\u001b[0m                        Traceback (most recent call last)",
      "\u001b[1;32m~\\AppData\\Local\\Temp/ipykernel_21468/3523484089.py\u001b[0m in \u001b[0;36m<module>\u001b[1;34m\u001b[0m\n\u001b[1;32m----> 1\u001b[1;33m \u001b[0mstr\u001b[0m\u001b[1;33m.\u001b[0m\u001b[0mencode\u001b[0m\u001b[1;33m(\u001b[0m\u001b[1;34m\"Convert me, please 😀\"\u001b[0m\u001b[1;33m,\u001b[0m \u001b[1;34m\"ascii\"\u001b[0m\u001b[1;33m,\u001b[0m \u001b[1;34m\"strict\"\u001b[0m\u001b[1;33m)\u001b[0m\u001b[1;33m\u001b[0m\u001b[1;33m\u001b[0m\u001b[0m\n\u001b[0m",
      "\u001b[1;31mUnicodeEncodeError\u001b[0m: 'ascii' codec can't encode character '\\U0001f600' in position 19: ordinal not in range(128)"
     ]
    }
   ],
   "source": [
    "str.encode(\"Convert me, please 😀\", \"ascii\", \"strict\")"
   ]
  },
  {
   "cell_type": "markdown",
   "metadata": {},
   "source": [
    "Los strings pueden ser definidos con comillas sencillas, dobles o triples."
   ]
  },
  {
   "cell_type": "code",
   "execution_count": 13,
   "metadata": {},
   "outputs": [
    {
     "data": {
      "text/plain": [
       "'\\nString con comillas triples\\nSoporta múltiples renglones\\nTambién soporta escape, por lo que este se representa como un solo renglón.\\n'"
      ]
     },
     "execution_count": 13,
     "metadata": {},
     "output_type": "execute_result"
    }
   ],
   "source": [
    "'Comilla sencilla'\n",
    "\n",
    "\"Comilla doble\"\n",
    "\n",
    "\"\"\"\n",
    "String con comillas triples\n",
    "Soporta múltiples renglones\n",
    "También soporta escape, \\\n",
    "por lo que este se representa como un solo renglón.\n",
    "\"\"\""
   ]
  },
  {
   "cell_type": "markdown",
   "metadata": {},
   "source": [
    "El símbolo `\\` se emplea dentro de un string como carater de escape y por medio de él es posible incluir comillas en la secuencia de caracteres."
   ]
  },
  {
   "cell_type": "code",
   "execution_count": 1,
   "metadata": {},
   "outputs": [
    {
     "data": {
      "text/plain": [
       "'He said: \"I\\'m done for now\"'"
      ]
     },
     "execution_count": 1,
     "metadata": {},
     "output_type": "execute_result"
    }
   ],
   "source": [
    "greeting = \"He said: \\\"I'm done for now\\\"\"\n",
    "greeting"
   ]
  },
  {
   "cell_type": "markdown",
   "metadata": {},
   "source": [
    "Caracteres de escape\n",
    "\n",
    "| Escape | Significado |\n",
    "| --- | --- |\n",
    "| \\newline | Ignorar el caracter de nueva línea |\n",
    "| \\\\\\\\ | Backslash (\\\\)|\n",
    "| \\' | Comilla sencilla (') |\n",
    "| \\\\\" | Comilla doble (\") |\n",
    "| \\\\a | Campana ASCII (BEL) |\n",
    "| \\\\b | Backspace ASCII (BS) |\n",
    "| \\\\f | Formfeed ASCII (FF) |\n",
    "| \\\\n | Linefeed ASCII (LF) |\n",
    "| \\\\N{name} | Caracter Unicode con el nombre especificado |\n",
    "| \\\\ooo | Caracter con el valor octal especificado |\n",
    "| \\\\r | Retorno de carro ASCII (CR) |\n",
    "| \\\\t | Tabulador ASCII (TAB) |\n",
    "| \\\\u*hhhh* | Caracter Unicode con el valor hexadecimal de 16 bits especificado |\n",
    "| \\\\U*hhhhhhhh* | Caracter Unicode con el valor hexadecimal de 32 bits especificado | \n",
    "| \\\\v | Tabulador vertical ASCII (VT) |\n",
    "| \\\\x*hh* | Caracter con el valor hexadecimal de 8 bits especificado |"
   ]
  },
  {
   "cell_type": "markdown",
   "metadata": {},
   "source": [
    "Es posible usar comillas en secuencias de caracteres sin el caracter de escape empleando comillas distintas a las empleadas las comillas empleadas como delimitador."
   ]
  },
  {
   "cell_type": "code",
   "execution_count": 3,
   "metadata": {},
   "outputs": [
    {
     "name": "stdout",
     "output_type": "stream",
     "text": [
      "Comillas sencillas 'bienvenidas', dobles requieren \"escape\".\n"
     ]
    }
   ],
   "source": [
    "a = \"Comillas sencillas 'bienvenidas', dobles requieren \\\"escape\\\".\"\n",
    "print(a)\n"
   ]
  },
  {
   "cell_type": "code",
   "execution_count": 4,
   "metadata": {},
   "outputs": [
    {
     "name": "stdout",
     "output_type": "stream",
     "text": [
      "Comillas sencillas requieren 'escape', dobles \"bienvenidas\".\n"
     ]
    }
   ],
   "source": [
    "b = 'Comillas sencillas requieren \\'escape\\', dobles \"bienvenidas\".'\n",
    "print(b)"
   ]
  },
  {
   "cell_type": "markdown",
   "metadata": {},
   "source": [
    "Python emplea newline como su terminador de estatutos, excepto dentro de paréntesis, corchetes, llaves o secuencias de caracteres delimitadas por comilla triple. \n",
    "\n",
    "Es posible incluir newlines en cualquier secuencia de caracteres usando la secuencia de escape `\\n`\n",
    "\n",
    "Los newlines pueden ser empleados sin caracter de escape en secuencias de caracteres delimitadas por comilla triple."
   ]
  },
  {
   "cell_type": "markdown",
   "metadata": {},
   "source": [
    "Es posible escribir secuencia de caracteres largas segmentadas en múltiples renglones sin emplear triple comilla."
   ]
  },
  {
   "cell_type": "code",
   "execution_count": 7,
   "metadata": {},
   "outputs": [
    {
     "data": {
      "text/plain": [
       "'Una forma es por medio del operador + y el backslash el cual concatena dos secuencias de caracteres'"
      ]
     },
     "execution_count": 7,
     "metadata": {},
     "output_type": "execute_result"
    }
   ],
   "source": [
    "t = \"Una forma es por medio del operador + y el backslash el cual \" + \\\n",
    "    \"concatena dos secuencias de caracteres\"\n",
    "t"
   ]
  },
  {
   "cell_type": "code",
   "execution_count": 9,
   "metadata": {},
   "outputs": [
    {
     "data": {
      "text/plain": [
       "'La otra forma, recomendada, es mediante el uso de paréntesis, añadiendo tantos renglones como sea necesariocada uno con sus propias comillas.'"
      ]
     },
     "execution_count": 9,
     "metadata": {},
     "output_type": "execute_result"
    }
   ],
   "source": [
    "s = (\"La otra forma, recomendada, es mediante el uso de paréntesis, \"\n",
    "    \"añadiendo tantos renglones como sea necesario\"\n",
    "    \"cada uno con sus propias comillas.\")\n",
    "s"
   ]
  },
  {
   "cell_type": "markdown",
   "metadata": {},
   "source": [
    "Unicode"
   ]
  },
  {
   "cell_type": "code",
   "execution_count": 11,
   "metadata": {},
   "outputs": [
    {
     "data": {
      "text/plain": [
       "'€'"
      ]
     },
     "execution_count": 11,
     "metadata": {},
     "output_type": "execute_result"
    }
   ],
   "source": [
    "euros = \"\\N{euro sign}\"\n",
    "euros"
   ]
  }
 ],
 "metadata": {
  "interpreter": {
   "hash": "dff1176a825098967b08dbdbf002aed5f4d2fbc0230cbe7a7b9c071948b7fba3"
  },
  "kernelspec": {
   "display_name": "Python 3.8.12 64-bit ('alteryx': conda)",
   "language": "python",
   "name": "python3"
  },
  "language_info": {
   "codemirror_mode": {
    "name": "ipython",
    "version": 3
   },
   "file_extension": ".py",
   "mimetype": "text/x-python",
   "name": "python",
   "nbconvert_exporter": "python",
   "pygments_lexer": "ipython3",
   "version": "3.8.12"
  },
  "orig_nbformat": 4
 },
 "nbformat": 4,
 "nbformat_minor": 2
}
