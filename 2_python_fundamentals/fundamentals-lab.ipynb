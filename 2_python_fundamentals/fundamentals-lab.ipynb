{
 "cells": [
  {
   "cell_type": "markdown",
   "metadata": {},
   "source": [
    "# Estructura de código\n",
    "En Python los programas se estructuran por medio de indentación. Los bloques de código se definen por la distancia que ocupan con relación al principio del renglón, que podemos conceptualizar como el margen izquierdo del documento con el código."
   ]
  },
  {
   "cell_type": "code",
   "execution_count": 19,
   "metadata": {},
   "outputs": [
    {
     "name": "stdout",
     "output_type": "stream",
     "text": [
      "Menor de edad\n",
      "Solicita autorización de su padre o custodio legal\n"
     ]
    }
   ],
   "source": [
    "age = 13\n",
    "if age < 18: print(\"Menor de edad\")\n",
    "print(\"Solicita autorización de su padre o custodio legal\") #TODO: Fix indentation\n"
   ]
  },
  {
   "cell_type": "code",
   "execution_count": 20,
   "metadata": {},
   "outputs": [
    {
     "name": "stdout",
     "output_type": "stream",
     "text": [
      "Menor de edad\n",
      "Solicita autorización de su padre o custodio legal\n"
     ]
    }
   ],
   "source": [
    "age = 13\n",
    "if age < 18:\n",
    "    print(\"Menor de edad\")\n",
    "    print(\"Solicita autorización de su padre o custodio legal\")"
   ]
  },
  {
   "cell_type": "code",
   "execution_count": 21,
   "metadata": {},
   "outputs": [],
   "source": [
    "import random\n",
    "def get_authorization():\n",
    "    return bool(random.getrandbits(1))\n",
    "\n",
    "def get_guardian_authorization():\n",
    "    return False # Asumimos que el padre rechaza la autorización"
   ]
  },
  {
   "cell_type": "code",
   "execution_count": 22,
   "metadata": {},
   "outputs": [
    {
     "name": "stdout",
     "output_type": "stream",
     "text": [
      "Menor de edad\n",
      "Solicita autorización de su padre o custodio legal\n",
      "False\n"
     ]
    }
   ],
   "source": [
    "age = 13\n",
    "auth = False\n",
    "if age < 18:\n",
    "    print(\"Menor de edad\")\n",
    "    print(\"Solicita autorización de su padre o custodio legal\")\n",
    "    auth = get_guardian_authorization()\n",
    "else:\n",
    "    print(\"Solicita autorización del usuario\")\n",
    "    auth = get_authorization()\n",
    "print(auth)"
   ]
  },
  {
   "cell_type": "code",
   "execution_count": 23,
   "metadata": {},
   "outputs": [
    {
     "name": "stdout",
     "output_type": "stream",
     "text": [
      "140710268142432\n",
      "Solicita autorización del usuario\n",
      "140710268142400\n",
      "True\n"
     ]
    }
   ],
   "source": [
    "age = 21\n",
    "auth = False\n",
    "print(id(auth))\n",
    "if age < 18:\n",
    "    print(\"Menor de edad\")\n",
    "    print(\"Solicita autorización de su padre o custodio legal\")\n",
    "else:\n",
    "    print(\"Solicita autorización del usuario\")\n",
    "    auth = get_authorization()\n",
    "    print(id(auth))\n",
    "print(auth)"
   ]
  },
  {
   "cell_type": "markdown",
   "metadata": {},
   "source": [
    "# Booleanos\n",
    "Ejecuta los siguientes estatutos e interpreta los resultados."
   ]
  },
  {
   "cell_type": "code",
   "execution_count": 24,
   "metadata": {},
   "outputs": [
    {
     "data": {
      "text/plain": [
       "True"
      ]
     },
     "execution_count": 24,
     "metadata": {},
     "output_type": "execute_result"
    }
   ],
   "source": [
    "1 == 1"
   ]
  },
  {
   "cell_type": "code",
   "execution_count": 25,
   "metadata": {},
   "outputs": [
    {
     "data": {
      "text/plain": [
       "True"
      ]
     },
     "execution_count": 25,
     "metadata": {},
     "output_type": "execute_result"
    }
   ],
   "source": [
    "1 == True"
   ]
  },
  {
   "cell_type": "code",
   "execution_count": 26,
   "metadata": {},
   "outputs": [
    {
     "data": {
      "text/plain": [
       "False"
      ]
     },
     "execution_count": 26,
     "metadata": {},
     "output_type": "execute_result"
    }
   ],
   "source": [
    "0 == True"
   ]
  },
  {
   "cell_type": "code",
   "execution_count": 27,
   "metadata": {},
   "outputs": [
    {
     "data": {
      "text/plain": [
       "True"
      ]
     },
     "execution_count": 27,
     "metadata": {},
     "output_type": "execute_result"
    }
   ],
   "source": [
    "0 == False"
   ]
  },
  {
   "cell_type": "code",
   "execution_count": 28,
   "metadata": {},
   "outputs": [
    {
     "data": {
      "text/plain": [
       "True"
      ]
     },
     "execution_count": 28,
     "metadata": {},
     "output_type": "execute_result"
    }
   ],
   "source": [
    "5 == 5 * 1"
   ]
  },
  {
   "cell_type": "markdown",
   "metadata": {},
   "source": [
    "¿Por qué el siguiente estatuto produce 0 y no False?"
   ]
  },
  {
   "cell_type": "code",
   "execution_count": 29,
   "metadata": {},
   "outputs": [
    {
     "data": {
      "text/plain": [
       "0"
      ]
     },
     "execution_count": 29,
     "metadata": {},
     "output_type": "execute_result"
    }
   ],
   "source": [
    "(5 == 1) * 3"
   ]
  },
  {
   "cell_type": "code",
   "execution_count": 30,
   "metadata": {},
   "outputs": [
    {
     "data": {
      "text/plain": [
       "True"
      ]
     },
     "execution_count": 30,
     "metadata": {},
     "output_type": "execute_result"
    }
   ],
   "source": [
    "(2 == 2) * 3 + 7 == 10"
   ]
  },
  {
   "cell_type": "markdown",
   "metadata": {},
   "source": [
    "# Enteros\n",
    "Ejecuta los siguientes estatutos e interpreta el resultado."
   ]
  },
  {
   "cell_type": "markdown",
   "metadata": {},
   "source": [
    "¿Por qué la división de enteros produce un `float`?"
   ]
  },
  {
   "cell_type": "code",
   "execution_count": 31,
   "metadata": {},
   "outputs": [
    {
     "data": {
      "text/plain": [
       "1.75"
      ]
     },
     "execution_count": 31,
     "metadata": {},
     "output_type": "execute_result"
    }
   ],
   "source": [
    "7 / 4"
   ]
  },
  {
   "cell_type": "code",
   "execution_count": 32,
   "metadata": {},
   "outputs": [
    {
     "data": {
      "text/plain": [
       "3"
      ]
     },
     "execution_count": 32,
     "metadata": {},
     "output_type": "execute_result"
    }
   ],
   "source": [
    "7 % 4"
   ]
  },
  {
   "cell_type": "code",
   "execution_count": 33,
   "metadata": {},
   "outputs": [
    {
     "data": {
      "text/plain": [
       "1.0"
      ]
     },
     "execution_count": 33,
     "metadata": {},
     "output_type": "execute_result"
    }
   ],
   "source": [
    "7.0 // 4"
   ]
  },
  {
   "cell_type": "code",
   "execution_count": 34,
   "metadata": {},
   "outputs": [
    {
     "data": {
      "text/plain": [
       "1.75"
      ]
     },
     "execution_count": 34,
     "metadata": {},
     "output_type": "execute_result"
    }
   ],
   "source": [
    "7 / 4.0"
   ]
  },
  {
   "cell_type": "markdown",
   "metadata": {},
   "source": [
    "¿Por qué `float` módulo `int` produce un `float`?"
   ]
  },
  {
   "cell_type": "code",
   "execution_count": 35,
   "metadata": {},
   "outputs": [
    {
     "data": {
      "text/plain": [
       "1.5"
      ]
     },
     "execution_count": 35,
     "metadata": {},
     "output_type": "execute_result"
    }
   ],
   "source": [
    "7.5 % 3"
   ]
  },
  {
   "cell_type": "markdown",
   "metadata": {},
   "source": [
    "# Variables\n",
    "En Python el tipo de las variables es dinámico (dynamically typed). Esto implica que no su tipo de datos debe ser declarado antes de usarla. Lo anterior contrasta con el lenguaje C cuyas variables son de tipo estático (statically typed).\n",
    "\n",
    "En Python una variable es una referencia a un objeto y es posible en tiempo de ejecución modificar el objeto al que refiere una variable."
   ]
  },
  {
   "cell_type": "code",
   "execution_count": 36,
   "metadata": {},
   "outputs": [
    {
     "data": {
      "text/plain": [
       "1"
      ]
     },
     "execution_count": 36,
     "metadata": {},
     "output_type": "execute_result"
    }
   ],
   "source": [
    "x = 1\n",
    "x"
   ]
  },
  {
   "cell_type": "code",
   "execution_count": 37,
   "metadata": {},
   "outputs": [
    {
     "data": {
      "text/plain": [
       "'Variables in Python are dynamically typed'"
      ]
     },
     "execution_count": 37,
     "metadata": {},
     "output_type": "execute_result"
    }
   ],
   "source": [
    "x = \"Variables in Python are dynamically typed\"\n",
    "x"
   ]
  },
  {
   "cell_type": "code",
   "execution_count": 38,
   "metadata": {},
   "outputs": [
    {
     "data": {
      "text/plain": [
       "41"
      ]
     },
     "execution_count": 38,
     "metadata": {},
     "output_type": "execute_result"
    }
   ],
   "source": [
    "len(x)"
   ]
  },
  {
   "cell_type": "markdown",
   "metadata": {},
   "source": [
    "Debido a esto, los errores de compatibilidad de tipos son interceptados en tiempo de ejecución, en contraste con lenguajes con tipos estáticos donde son interceptados en tiempo de compilación."
   ]
  },
  {
   "cell_type": "code",
   "execution_count": 39,
   "metadata": {},
   "outputs": [
    {
     "ename": "TypeError",
     "evalue": "object of type 'float' has no len()",
     "output_type": "error",
     "traceback": [
      "\u001b[1;31m---------------------------------------------------------------------------\u001b[0m",
      "\u001b[1;31mTypeError\u001b[0m                                 Traceback (most recent call last)",
      "\u001b[1;32m~\\AppData\\Local\\Temp/ipykernel_11384/667446448.py\u001b[0m in \u001b[0;36m<module>\u001b[1;34m\u001b[0m\n\u001b[0;32m      1\u001b[0m \u001b[0mx\u001b[0m \u001b[1;33m=\u001b[0m \u001b[1;36m1.2\u001b[0m\u001b[1;33m\u001b[0m\u001b[1;33m\u001b[0m\u001b[0m\n\u001b[1;32m----> 2\u001b[1;33m \u001b[0mlen\u001b[0m\u001b[1;33m(\u001b[0m\u001b[0mx\u001b[0m\u001b[1;33m)\u001b[0m\u001b[1;33m\u001b[0m\u001b[1;33m\u001b[0m\u001b[0m\n\u001b[0m",
      "\u001b[1;31mTypeError\u001b[0m: object of type 'float' has no len()"
     ]
    }
   ],
   "source": [
    "x = 1.2\n",
    "len(x)"
   ]
  },
  {
   "cell_type": "markdown",
   "metadata": {},
   "source": [
    "Python efectúa conversión de tipos (type coercion) donde hace sentido."
   ]
  },
  {
   "cell_type": "code",
   "execution_count": 40,
   "metadata": {},
   "outputs": [
    {
     "name": "stdout",
     "output_type": "stream",
     "text": [
      "<class 'int'>\n",
      "<class 'float'>\n",
      "<class 'float'>\n",
      "El valor de r: 1.2\n"
     ]
    }
   ],
   "source": [
    "p = 1\n",
    "print(type(p))\n",
    "\n",
    "q = .2\n",
    "print(type(q))\n",
    "\n",
    "r = p + q\n",
    "print(type(r))\n",
    "print(\"El valor de r: {}\".format(r))"
   ]
  },
  {
   "cell_type": "markdown",
   "metadata": {},
   "source": [
    "#"
   ]
  },
  {
   "cell_type": "markdown",
   "metadata": {},
   "source": [
    "# Gestión de archivos\n"
   ]
  },
  {
   "cell_type": "markdown",
   "metadata": {},
   "source": [
    "La sintaxis para leer y escribir archivos en Python es similar a lenguajes de programación como C y C++, Java, Perl y otros, sin embargo es más sencilla de usar.\n",
    "\n",
    "Veremos un ejemplo de escritura de archivo."
   ]
  },
  {
   "cell_type": "code",
   "execution_count": 41,
   "metadata": {},
   "outputs": [],
   "source": [
    "quasar = \"\"\"\n",
    "A quasar (/ˈkweɪzɑːr/; also known as a quasi-stellar object, abbreviated QSO) is an extremely luminous active galactic nucleus (AGN), powered by a supermassive black hole, with mass ranging from millions to tens of billions times the mass of the Sun, surrounded by a gaseous accretion disc. \n",
    "Gas in the disc falling towards the black hole heats up because of friction and releases energy in the form of electromagnetic radiation. \n",
    "The radiant energy of quasars is enormous; the most powerful quasars have luminosities thousands of times greater than a galaxy such as the Milky Way.[2][3] Usually, quasars are categorized as a subclass of the more general category of AGN. \n",
    "The redshifts of quasars are of cosmological origin.[4]\n",
    "\"\"\""
   ]
  },
  {
   "cell_type": "code",
   "execution_count": 42,
   "metadata": {},
   "outputs": [
    {
     "data": {
      "text/plain": [
       "730"
      ]
     },
     "execution_count": 42,
     "metadata": {},
     "output_type": "execute_result"
    }
   ],
   "source": [
    "open(\"quasar.txt\", \"w\", encoding=\"utf-8\").write(quasar)"
   ]
  },
  {
   "cell_type": "markdown",
   "metadata": {},
   "source": [
    "Abrimos el archivo recién creado."
   ]
  },
  {
   "cell_type": "code",
   "execution_count": 43,
   "metadata": {},
   "outputs": [
    {
     "name": "stdout",
     "output_type": "stream",
     "text": [
      "\n",
      "A quasar (/ˈkweɪzɑːr/; also known as a quasi-stellar object, abbreviated QSO) is an extremely luminous active galactic nucleus (AGN), powered by a supermassive black hole, with mass ranging from millions to tens of billions times the mass of the Sun, surrounded by a gaseous accretion disc. \n",
      "Gas in the disc falling towards the black hole heats up because of friction and releases energy in the form of electromagnetic radiation. \n",
      "The radiant energy of quasars is enormous; the most powerful quasars have luminosities thousands of times greater than a galaxy such as the Milky Way.[2][3] Usually, quasars are categorized as a subclass of the more general category of AGN. \n",
      "The redshifts of quasars are of cosmological origin.[4]\n",
      "\n"
     ]
    }
   ],
   "source": [
    "quasar_text = open(\"quasar.txt\", encoding=\"utf-8\").read()\n",
    "print(quasar_text)"
   ]
  },
  {
   "cell_type": "markdown",
   "metadata": {},
   "source": [
    "En el caso de archivos grandes, es posible leerlos línea por línea."
   ]
  },
  {
   "cell_type": "markdown",
   "metadata": {},
   "source": [
    "El estatuto `with` es un medio para asegurar la finalización de un objeto ante el eventual surgimiento de una excepción."
   ]
  },
  {
   "cell_type": "code",
   "execution_count": 45,
   "metadata": {},
   "outputs": [
    {
     "name": "stdout",
     "output_type": "stream",
     "text": [
      "A pulsar (from pulsating radio source)[1][2] is a highly magnetized rotating compact star (usually neutron stars but also white dwarfs) that emits beams of electromagnetic radiation out of its magnetic poles.[3] This radiation can be observed only when a beam of emission is pointing toward Earth (similar to the way a lighthouse can be seen only when the light is pointed in the direction of an observer), and is responsible for the pulsed appearance of emission. Neutron stars are very dense and have short, regular rotational periods. This produces a very precise interval between pulses that ranges from milliseconds to seconds for an individual pulsar. Pulsars are one of the candidates for the source of ultra-high-energy cosmic rays. (See also centrifugal mechanism of acceleration.)\n",
      "\n",
      "The periods of pulsars make them very useful tools for astronomers. Observations of a pulsar in a binary neutron star system were used to indirectly confirm the existence of gravitational radiation. The first extrasolar planets were discovered around a pulsar, PSR B1257+12. In 1983, certain types of pulsars were detected that, at that time, exceeded the accuracy of atomic clocks in keeping time.[4]\n",
      "\n",
      "Discovery\n",
      "\n",
      "Signals from the first discovered pulsar were initially observed by Jocelyn Bell while analyzing data recorded on August 6, 1967 from a newly commissioned radio telescope that she helped build. Initially dismissed as radio interference by her supervisor, Antony Hewish, developer of the telescope,[5] [6] the fact that the signals always appeared at the same declination and right ascension soon ruled out a terrestrial source.[7] On November 28, 1967, Bell and Hewish using a fast recorder resolved the signals as a series of pulses, evenly spaced every 1.33 seconds. No astronomical object of this nature had ever been observed before. On December 21, Bell discovered a second pulsar, quashing speculation that these might be signals beamed at earth from an extraterrestrial intelligence.[8] [9][10][11]\n",
      "\n",
      "When observations with another telescope confirmed the emission, it eliminated any sort of instrumental effects. At this point, Bell said of herself and Hewish that \"we did not really believe that we had picked up signals from another civilization, but obviously the idea had crossed our minds and we had no proof that it was an entirely natural radio emission. It is an interesting problem—if one thinks one may have detected life elsewhere in the universe, how does one announce the results responsibly?\"[12] Even so, they nicknamed the signal LGM-1, for \"little green men\" (a playful name for intelligent beings of extraterrestrial origin).\n",
      "\n",
      "\n",
      "Chart on which Jocelyn Bell first recognised evidence of a pulsar, exhibited at Cambridge University Library\n",
      "It was not until a second pulsating source was discovered in a different part of the sky that the \"LGM hypothesis\" was entirely abandoned.[13] Their pulsar was later dubbed CP 1919, and is now known by a number of designators including PSR B1919+21 and PSR J1921+2153. Although CP 1919 emits in radio wavelengths, pulsars have subsequently been found to emit in visible light, X-ray, and gamma ray wavelengths.[14]\n",
      "\n",
      "The word \"pulsar\" first appeared in print in 1968:\n",
      "An entirely novel kind of star came to light on Aug. 6 last year and was referred to, by astronomers, as LGM (Little Green Men). Now it is thought to be a novel type between a white dwarf and a neutron [star]. The name Pulsar is likely to be given to it. Dr. A. Hewish told me yesterday: '... I am sure that today every radio telescope is looking at the Pulsars.'[15]\n",
      "\n",
      "\n",
      "Composite optical/X-ray image of the Crab Nebula, showing synchrotron emission in the surrounding pulsar wind nebula, powered by injection of magnetic fields and particles from the central pulsar.\n",
      "The existence of neutron stars was first proposed by Walter Baade and Fritz Zwicky in 1934, when they argued that a small, dense star consisting primarily of neutrons would result from a supernova.[16] Based on the idea of magnetic flux conservation from magnetic main sequence stars, Lodewijk Woltjer proposed in 1964 that such neutron stars might contain magnetic fields as large as 1014 to 1016 Gauss (=1010 to 1012 Tesla).[17] In 1967, shortly before the discovery of pulsars, Franco Pacini suggested that a rotating neutron star with a magnetic field would emit radiation, and even noted that such energy could be pumped into a supernova remnant around a neutron star, such as the Crab Nebula.[18] After the discovery of the first pulsar, Thomas Gold independently suggested a rotating neutron star model similar to that of Pacini, and explicitly argued that this model could explain the pulsed radiation observed by Bell Burnell and Hewish.[19] In 1968, Richard V. E. Lovelace with collaborators discovered period {\\displaystyle P\\!\\approx 33}{\\displaystyle P\\!\\approx 33} ms of the Crab Nebula pulsar using Arecibo Observatory. [20] [21] The discovery of the Crab pulsar provided confirmation of the rotating neutron star model of pulsars.[22] The Crab pulsar 33-millisecond pulse period was too short to be consistent with other proposed models for pulsar emission. Moreover, the Crab pulsar is so named because it is located at the center of the Crab Nebula, consistent with the 1933 prediction of Baade and Zwicky.[23] In 1974, Antony Hewish and Martin Ryle, who had developed revolutionary radio telescopes, became the first astronomers to be awarded the Nobel Prize in Physics, with the Royal Swedish Academy of Sciences noting that Hewish played a \"decisive role in the discovery of pulsars\".[24] Considerable controversy is associated with the fact that Hewish was awarded the prize while Bell, who made the initial discovery while she was his PhD student, was not. Bell claims no bitterness upon this point, supporting the decision of the Nobel prize committee.[25]\n",
      "\n",
      "Milestones\n",
      "\n",
      "In 1974, Joseph Hooton Taylor, Jr. and Russell Hulse discovered for the first time a pulsar in a binary system, PSR B1913+16. This pulsar orbits another neutron star with an orbital period of just eight hours. Einstein's theory of general relativity predicts that this system should emit strong gravitational radiation, causing the orbit to continually contract as it loses orbital energy. Observations of the pulsar soon confirmed this prediction, providing the first ever evidence of the existence of gravitational waves. As of 2010, observations of this pulsar continue to agree with general relativity.[26] In 1993, the Nobel Prize in Physics was awarded to Taylor and Hulse for the discovery of this pulsar.[27]\n",
      "\n",
      "In 1982, Don Backer led a group which discovered PSR B1937+21, a pulsar with a rotation period of just 1.6 milliseconds (38,500 rpm).[28] Observations soon revealed that its magnetic field was much weaker than ordinary pulsars, while further discoveries cemented the idea that a new class of object, the \"millisecond pulsars\" (MSPs) had been found. MSPs are believed to be the end product of X-ray binaries. Owing to their extraordinarily rapid and stable rotation, MSPs can be used by astronomers as clocks rivaling the stability of the best atomic clocks on Earth. Factors affecting the arrival time of pulses at Earth by more than a few hundred nanoseconds can be easily detected and used to make precise measurements. Physical parameters accessible through pulsar timing include the 3D position of the pulsar, its proper motion, the electron content of the interstellar medium along the propagation path, the orbital parameters of any binary companion, the pulsar rotation period and its evolution with time. (These are computed from the raw timing data by Tempo, a computer program specialized for this task.) After these factors have been taken into account, deviations between the observed arrival times and predictions made using these parameters can be found and attributed to one of three possibilities: intrinsic variations in the spin period of the pulsar, errors in the realization of Terrestrial Time against which arrival times were measured, or the presence of background gravitational waves. Scientists are currently attempting to resolve these possibilities by comparing the deviations seen between several different pulsars, forming what is known as a pulsar timing array. The goal of these efforts is to develop a pulsar-based time standard precise enough to make the first ever direct detection of gravitational waves. In June 2006, the astronomer John Middleditch and his team at LANL announced the first prediction of pulsar glitches with observational data from the Rossi X-ray Timing Explorer. They used observations of the pulsar PSR J0537−6910.\n",
      "\n",
      "\n",
      "Artist's impression of the planets orbiting PSR B1257+12. The one in the foreground is planet \"C\".\n",
      "In 1992, Aleksander Wolszczan discovered the first extrasolar planets around PSR B1257+12. This discovery presented important evidence concerning the widespread existence of planets outside the Solar System, although it is very unlikely that any life form could survive in the environment of intense radiation near a pulsar.\n",
      "\n",
      "In 2016, AR Scorpii was identified as the first pulsar in which the compact object is a white dwarf instead of a neutron star.[29] Because its moment of inertia is much higher than that of a neutron star, the white dwarf in this system rotates once every 1.97 minutes, far slower than neutron-star pulsars.[30] The system displays strong pulsations from ultraviolet to radio wavelengths, powered by the spin-down of the strongly magnetized white dwarf.[29]\n"
     ]
    }
   ],
   "source": [
    "with open(\"pulsar.txt\", \"r\", encoding=\"utf-8\") as file_handle:\n",
    "    for line in file_handle:\n",
    "        print(line.strip())\n"
   ]
  },
  {
   "cell_type": "markdown",
   "metadata": {},
   "source": [
    "Lo anterior, en contraste con el uso de las funciones `open()` y `close()` del módulo de archivos de Python."
   ]
  },
  {
   "cell_type": "code",
   "execution_count": 46,
   "metadata": {},
   "outputs": [
    {
     "name": "stdout",
     "output_type": "stream",
     "text": [
      "A pulsar (from pulsating radio, 791\n",
      "The periods of pulsars make th, 402\n",
      "Signals from the first discove, 806\n",
      "When observations with another, 646\n",
      "Chart on which Jocelyn Bell fi, 109\n",
      "It was not until a second puls, 415\n",
      "The word \"pulsar\" first appear, 51\n",
      "An entirely novel kind of star, 368\n",
      "Composite optical/X-ray image , 197\n",
      "The existence of neutron stars, 2081\n",
      "In 1974, Joseph Hooton Taylor,, 717\n",
      "In 1982, Don Backer led a grou, 2074\n",
      "Artist's impression of the pla, 99\n",
      "In 1992, Aleksander Wolszczan , 325\n",
      "In 2016, AR Scorpii was identi, 456\n"
     ]
    }
   ],
   "source": [
    "pulsar_handle = open(\"pulsar.txt\")\n",
    "for line in pulsar_handle:\n",
    "    if(len(line)>30):\n",
    "        print(\"{}, {}\".format(line[:30], len(line)))\n",
    "pulsar_handle.close()"
   ]
  },
  {
   "cell_type": "markdown",
   "metadata": {},
   "source": [
    "En el código de la celda de arriba, si ocurre una excepción en el ciclo `for`, no se cerraría el handle al archivo."
   ]
  },
  {
   "cell_type": "markdown",
   "metadata": {},
   "source": [
    "# Módulos\n",
    "La programación modular es una técnica de diseño de software que enfatiza separar la funcionalidad de un programa  en módulos independientes, intercambiables, del tal forma que cada uno contenga todo lo necesario para ejecutar solo un aspecto de la funcionalidad deseada. El acoplamiento es el grado de interdependencia entre módulos de software. La cohesión se refiere al grado en el que los elementos de un módulo pertenecen entre sí. Se recomienda que los módulos tengan un bajo acoplamiento y alta cohesión.\n",
    "\n",
    "La [librería estándar de Python](https://docs.python.org/3/library/index.html) incluye módulos pre integrados (escritos en C) que proveen acceso a funcionalidad del sistema (como puede ser el caso de entradas y salidas de archivos o recursos HTTP) que de otra forma no serían accesibles para los programadores Python.\n",
    "\n",
    "Los módulos de la librería estándar incluyen:\n",
    "* Servicios de procesamiento de texto, datos binarios.\n",
    "* Numéricos y matemáticos.\n",
    "* Archivos y acceso a directorios.\n",
    "* Servicios generales de sistema operativo.\n",
    "* Redes y protocolos de Internet.\n",
    "\n",
    "Y muchos más.\n"
   ]
  },
  {
   "cell_type": "markdown",
   "metadata": {},
   "source": [
    "Existen diversas formas de importar módulos en Python"
   ]
  },
  {
   "cell_type": "code",
   "execution_count": 47,
   "metadata": {},
   "outputs": [],
   "source": [
    "import math"
   ]
  },
  {
   "cell_type": "markdown",
   "metadata": {},
   "source": [
    "La constante matemática $\\epsilon$."
   ]
  },
  {
   "cell_type": "code",
   "execution_count": 48,
   "metadata": {},
   "outputs": [
    {
     "data": {
      "text/plain": [
       "2.718281828459045"
      ]
     },
     "execution_count": 48,
     "metadata": {},
     "output_type": "execute_result"
    }
   ],
   "source": [
    "math.e"
   ]
  },
  {
   "cell_type": "markdown",
   "metadata": {},
   "source": [
    "La función `tanh()` es una de las funciones de activación empleada en la etapa forward propagation de una red neuronal.\n"
   ]
  },
  {
   "cell_type": "code",
   "execution_count": 49,
   "metadata": {},
   "outputs": [
    {
     "data": {
      "text/plain": [
       "0.46211715726000974"
      ]
     },
     "execution_count": 49,
     "metadata": {},
     "output_type": "execute_result"
    }
   ],
   "source": [
    "math.tanh(0.5)"
   ]
  },
  {
   "cell_type": "markdown",
   "metadata": {},
   "source": [
    "Es posible importar más de un módulo en un estatuto `import` en cuyo caso se separan por comas"
   ]
  },
  {
   "cell_type": "code",
   "execution_count": 50,
   "metadata": {},
   "outputs": [],
   "source": [
    "import math, random"
   ]
  },
  {
   "cell_type": "markdown",
   "metadata": {},
   "source": [
    "Se recomienda colocar los estatutos `import` al principio del programa."
   ]
  },
  {
   "cell_type": "markdown",
   "metadata": {},
   "source": [
    "Es posible importar objetos específicos de un módulo"
   ]
  },
  {
   "cell_type": "code",
   "execution_count": 51,
   "metadata": {},
   "outputs": [],
   "source": [
    "from math import pi, degrees, radians"
   ]
  },
  {
   "cell_type": "code",
   "execution_count": 52,
   "metadata": {},
   "outputs": [
    {
     "data": {
      "text/plain": [
       "0.013707783890401887"
      ]
     },
     "execution_count": 52,
     "metadata": {},
     "output_type": "execute_result"
    }
   ],
   "source": [
    "radians(pi/4)"
   ]
  },
  {
   "cell_type": "code",
   "execution_count": 53,
   "metadata": {},
   "outputs": [
    {
     "data": {
      "text/plain": [
       "45.0"
      ]
     },
     "execution_count": 53,
     "metadata": {},
     "output_type": "execute_result"
    }
   ],
   "source": [
    "degrees(pi/4)"
   ]
  },
  {
   "cell_type": "code",
   "execution_count": 54,
   "metadata": {},
   "outputs": [
    {
     "ename": "NameError",
     "evalue": "name 'sin' is not defined",
     "output_type": "error",
     "traceback": [
      "\u001b[1;31m---------------------------------------------------------------------------\u001b[0m",
      "\u001b[1;31mNameError\u001b[0m                                 Traceback (most recent call last)",
      "\u001b[1;32m~\\AppData\\Local\\Temp/ipykernel_11384/3990402361.py\u001b[0m in \u001b[0;36m<module>\u001b[1;34m\u001b[0m\n\u001b[1;32m----> 1\u001b[1;33m \u001b[0msin\u001b[0m\u001b[1;33m(\u001b[0m\u001b[1;36m0\u001b[0m\u001b[1;33m)\u001b[0m\u001b[1;33m\u001b[0m\u001b[1;33m\u001b[0m\u001b[0m\n\u001b[0m",
      "\u001b[1;31mNameError\u001b[0m: name 'sin' is not defined"
     ]
    }
   ],
   "source": [
    "sin(0)"
   ]
  },
  {
   "cell_type": "code",
   "execution_count": 55,
   "metadata": {},
   "outputs": [
    {
     "data": {
      "text/plain": [
       "0.0"
      ]
     },
     "execution_count": 55,
     "metadata": {},
     "output_type": "execute_result"
    }
   ],
   "source": [
    "math.sin(0)"
   ]
  },
  {
   "cell_type": "markdown",
   "metadata": {},
   "source": [
    "Es posible importar todos los objetos de un módulo colocando el símbolo asterisco después del nombre del módulo:\n",
    "\n",
    "```\n",
    "from math import *\n",
    "print(pi)\n",
    "````\n",
    "\n",
    "Esta modalidad solo es recomendada cuando se trabaja con el intérprete interactivo de Python. Al usar esta modalidad se pierde la noción de a qué modulo pertenece el objeto que está siendo invocado.\n",
    "\n",
    "Cabe destacar que Python no provee de sentencias para descargar un módulo."
   ]
  },
  {
   "cell_type": "markdown",
   "metadata": {},
   "source": [
    "Es posible definir un prefijo del módulo al momento de importarlo y nombrarlo en objetos completamente calificados."
   ]
  },
  {
   "cell_type": "code",
   "execution_count": 56,
   "metadata": {},
   "outputs": [
    {
     "data": {
      "text/plain": [
       "array([[1, 2, 3],\n",
       "       [4, 5, 6],\n",
       "       [7, 8, 9]])"
      ]
     },
     "execution_count": 56,
     "metadata": {},
     "output_type": "execute_result"
    }
   ],
   "source": [
    "import numpy as np\n",
    "np.array(\n",
    "    [[1,2,3],\n",
    "    [4,5,6],\n",
    "    [7,8,9]])"
   ]
  },
  {
   "cell_type": "markdown",
   "metadata": {},
   "source": [
    "Un módulo en Python es un archivo que contienen definiciones y estatutos de Python. El nombre del módulo es el nombre del archivo sin la extensión `.py`. \n",
    "\n",
    "Para el archivo `positive_divisor.py` el nombre del módulo es `positive_divisor`"
   ]
  },
  {
   "cell_type": "code",
   "execution_count": 57,
   "metadata": {},
   "outputs": [
    {
     "name": "stdout",
     "output_type": "stream",
     "text": [
      "1\n",
      "2\n",
      "5\n",
      "10\n",
      "25\n",
      "50\n"
     ]
    }
   ],
   "source": [
    "import positive_divisor as pod\n",
    "pod.positive_divisor(50,1)"
   ]
  },
  {
   "cell_type": "markdown",
   "metadata": {},
   "source": [
    "Es posible asignar una variable a la función para lograr un nombre más corto"
   ]
  },
  {
   "cell_type": "code",
   "execution_count": 58,
   "metadata": {},
   "outputs": [
    {
     "name": "stdout",
     "output_type": "stream",
     "text": [
      "3\n",
      "9\n"
     ]
    }
   ],
   "source": [
    "posd = pod.positive_divisor\n",
    "posd(9,3)"
   ]
  },
  {
   "cell_type": "markdown",
   "metadata": {},
   "source": [
    "Generalmente los módulos contienen funciones o clases. También pueden incluir estatutos ejecutables, los cuales generalmente se emplean para inicializar el módulo y solo se ejecutan cuando se importa."
   ]
  },
  {
   "cell_type": "code",
   "execution_count": 59,
   "metadata": {},
   "outputs": [
    {
     "name": "stdout",
     "output_type": "stream",
     "text": [
      "Initializing the module.\n"
     ]
    }
   ],
   "source": [
    "import module_initialization"
   ]
  },
  {
   "cell_type": "code",
   "execution_count": 60,
   "metadata": {},
   "outputs": [],
   "source": [
    "import module_initialization #El módulo solo se importa una vez."
   ]
  },
  {
   "cell_type": "markdown",
   "metadata": {},
   "source": [
    "En Python 2.6 era posible cargar nuevamente un módulo por medio de la función `reload()` la cual no se encuentra soportada en Python 3.0."
   ]
  },
  {
   "cell_type": "code",
   "execution_count": 61,
   "metadata": {},
   "outputs": [
    {
     "name": "stdout",
     "output_type": "stream",
     "text": [
      "Initializing the module.\n"
     ]
    },
    {
     "data": {
      "text/plain": [
       "<module 'module_initialization' from 'c:\\\\src\\\\marmo\\\\alteryx\\\\2_python_fundamentals\\\\module_initialization.py'>"
      ]
     },
     "execution_count": 61,
     "metadata": {},
     "output_type": "execute_result"
    }
   ],
   "source": [
    "#Fails in Python 3.x...\n",
    "reload(module_initialization)"
   ]
  },
  {
   "cell_type": "markdown",
   "metadata": {},
   "source": [
    "En Python 3.4 es posible cargar nuevamente un módulo por medio de la función `reload` del módulo `importlib`"
   ]
  },
  {
   "cell_type": "code",
   "execution_count": 62,
   "metadata": {},
   "outputs": [
    {
     "name": "stdout",
     "output_type": "stream",
     "text": [
      "Initializing the module.\n"
     ]
    },
    {
     "data": {
      "text/plain": [
       "<module 'module_initialization' from 'c:\\\\src\\\\marmo\\\\alteryx\\\\2_python_fundamentals\\\\module_initialization.py'>"
      ]
     },
     "execution_count": 62,
     "metadata": {},
     "output_type": "execute_result"
    }
   ],
   "source": [
    "import importlib\n",
    "importlib.reload(module_initialization)"
   ]
  },
  {
   "cell_type": "markdown",
   "metadata": {},
   "source": [
    "Los módulos tienen una tabla privada de símbolos, la cual es accesible para todas las funciones definidas en él, evitando que una variable global de un módulo tenga conflicto con una variable de usuario con el mismo nombre. Las variables también se acceden por medio nombre del módulo o seudónimo como prefijo."
   ]
  },
  {
   "cell_type": "code",
   "execution_count": 63,
   "metadata": {},
   "outputs": [
    {
     "data": {
      "text/plain": [
       "False"
      ]
     },
     "execution_count": 63,
     "metadata": {},
     "output_type": "execute_result"
    }
   ],
   "source": [
    "import module_variable as mv\n",
    "a = 100\n",
    "a == mv.a"
   ]
  },
  {
   "cell_type": "markdown",
   "metadata": {},
   "source": [
    "# Paquetes"
   ]
  },
  {
   "cell_type": "markdown",
   "metadata": {},
   "source": [
    "Un paquete es un directorio con archivos de Python y un archivo `__init__.py`. Es posible colocar múltiples módulos en un paquete. Los paquetes proveen de una estructura al espacio de nombres de los módulos. Es posible tener módulos con el mismo nombre en distintos paquetes. Los paquetes se importan con el comando `import`."
   ]
  },
  {
   "cell_type": "markdown",
   "metadata": {},
   "source": [
    "Consideremos un paquete procesador de medios audiovisuales, el cual consta de dos módulos encargados del preprocesamiento (ingreso) y post procesamiento (egreso) del medio audiovisual.\n",
    "\n",
    "```\n",
    "├───media_processor\n",
    "│   │   egress.py\n",
    "│   │   ingress.py\n",
    "│   │   __init__.py\n",
    "```"
   ]
  },
  {
   "cell_type": "markdown",
   "metadata": {},
   "source": [
    "Importamos media_processor"
   ]
  },
  {
   "cell_type": "code",
   "execution_count": 64,
   "metadata": {},
   "outputs": [],
   "source": [
    "import media_processor as mp"
   ]
  },
  {
   "cell_type": "markdown",
   "metadata": {},
   "source": [
    "Invocamos `pre_process_media(id)`"
   ]
  },
  {
   "cell_type": "code",
   "execution_count": 65,
   "metadata": {},
   "outputs": [
    {
     "name": "stdout",
     "output_type": "stream",
     "text": [
      "Preprocessing media ID 120 from ingress\n"
     ]
    }
   ],
   "source": [
    "mp.ingress.pre_process_media(120)"
   ]
  },
  {
   "cell_type": "code",
   "execution_count": 66,
   "metadata": {},
   "outputs": [
    {
     "name": "stdout",
     "output_type": "stream",
     "text": [
      "Post processing media ID 100 from egress with token 10\n"
     ]
    }
   ],
   "source": [
    " my_id = 100\n",
    " my_token = 10\n",
    " \n",
    " mp.egress.post_process_media(my_id, my_token)"
   ]
  },
  {
   "cell_type": "markdown",
   "metadata": {},
   "source": [
    "Apreciamos que el módulo ingress no está cargado. Añade los siguientes estatutos para importar los módulos `ingress` y `egress` en el archivo `__init__.py`. \n",
    "\n",
    "```\n",
    "from media_processor import ingress\n",
    "from media_processor import egress\n",
    "```"
   ]
  },
  {
   "cell_type": "markdown",
   "metadata": {},
   "source": [
    "Cargamos nuevamente `media_processor`"
   ]
  },
  {
   "cell_type": "code",
   "execution_count": 67,
   "metadata": {},
   "outputs": [
    {
     "data": {
      "text/plain": [
       "<module 'media_processor' from 'c:\\\\src\\\\marmo\\\\alteryx\\\\2_python_fundamentals\\\\media_processor\\\\__init__.py'>"
      ]
     },
     "execution_count": 67,
     "metadata": {},
     "output_type": "execute_result"
    }
   ],
   "source": [
    "from importlib import reload\n",
    "reload(mp)"
   ]
  },
  {
   "cell_type": "markdown",
   "metadata": {},
   "source": [
    "Cabe mencionar que Python emplea un mecanismo similar al del sistema operativo para ubicar paquetes importados. La lista de rutas buscada por Python al importar se determina por `sys.path`"
   ]
  },
  {
   "cell_type": "code",
   "execution_count": 68,
   "metadata": {},
   "outputs": [
    {
     "data": {
      "text/plain": [
       "['c:\\\\src\\\\marmo\\\\alteryx\\\\2_python_fundamentals',\n",
       " 'c:\\\\Users\\\\Marciano\\\\.vscode\\\\extensions\\\\ms-toolsai.jupyter-2021.10.1101450599\\\\pythonFiles',\n",
       " 'c:\\\\Users\\\\Marciano\\\\.vscode\\\\extensions\\\\ms-toolsai.jupyter-2021.10.1101450599\\\\pythonFiles\\\\lib\\\\python',\n",
       " 'C:\\\\Users\\\\Marciano\\\\.conda\\\\envs\\\\alteryx\\\\python38.zip',\n",
       " 'C:\\\\Users\\\\Marciano\\\\.conda\\\\envs\\\\alteryx\\\\DLLs',\n",
       " 'C:\\\\Users\\\\Marciano\\\\.conda\\\\envs\\\\alteryx\\\\lib',\n",
       " 'C:\\\\Users\\\\Marciano\\\\.conda\\\\envs\\\\alteryx',\n",
       " '',\n",
       " 'C:\\\\Users\\\\Marciano\\\\AppData\\\\Roaming\\\\Python\\\\Python38\\\\site-packages',\n",
       " 'C:\\\\Users\\\\Marciano\\\\.conda\\\\envs\\\\alteryx\\\\lib\\\\site-packages',\n",
       " 'C:\\\\Users\\\\Marciano\\\\.conda\\\\envs\\\\alteryx\\\\lib\\\\site-packages\\\\locket-0.2.1-py3.8.egg',\n",
       " 'C:\\\\Users\\\\Marciano\\\\.conda\\\\envs\\\\alteryx\\\\lib\\\\site-packages\\\\win32',\n",
       " 'C:\\\\Users\\\\Marciano\\\\.conda\\\\envs\\\\alteryx\\\\lib\\\\site-packages\\\\win32\\\\lib',\n",
       " 'C:\\\\Users\\\\Marciano\\\\.conda\\\\envs\\\\alteryx\\\\lib\\\\site-packages\\\\Pythonwin',\n",
       " 'C:\\\\Users\\\\Marciano\\\\.conda\\\\envs\\\\alteryx\\\\lib\\\\site-packages\\\\IPython\\\\extensions',\n",
       " 'C:\\\\Users\\\\Marciano\\\\.ipython']"
      ]
     },
     "execution_count": 68,
     "metadata": {},
     "output_type": "execute_result"
    }
   ],
   "source": [
    "import sys\n",
    "sys.path"
   ]
  },
  {
   "cell_type": "markdown",
   "metadata": {},
   "source": [
    "Por default Python busca los paquetes en el directorio de trabajo actual. Si el módulo no se encuentra ahí, entonces busca en la lista provista por `sys.path`. Es posible determinar la ubicación de un paquete cargado por medio del atributo `__PATH__`"
   ]
  },
  {
   "cell_type": "code",
   "execution_count": 69,
   "metadata": {},
   "outputs": [
    {
     "data": {
      "text/plain": [
       "['c:\\\\src\\\\marmo\\\\alteryx\\\\2_python_fundamentals\\\\media_processor']"
      ]
     },
     "execution_count": 69,
     "metadata": {},
     "output_type": "execute_result"
    }
   ],
   "source": [
    "mp.__path__"
   ]
  },
  {
   "cell_type": "markdown",
   "metadata": {},
   "source": [
    "Invocamos `pre_process_media` y `post_process_media`"
   ]
  },
  {
   "cell_type": "code",
   "execution_count": 70,
   "metadata": {},
   "outputs": [
    {
     "name": "stdout",
     "output_type": "stream",
     "text": [
      "Preprocessing media ID 123 from ingress\n"
     ]
    }
   ],
   "source": [
    "mp.ingress.pre_process_media(123)"
   ]
  },
  {
   "cell_type": "code",
   "execution_count": 71,
   "metadata": {},
   "outputs": [
    {
     "name": "stdout",
     "output_type": "stream",
     "text": [
      "Post processing media ID 34 from egress with token 0\n"
     ]
    }
   ],
   "source": [
    "mp.egress.post_process_media(34)"
   ]
  }
 ],
 "metadata": {
  "interpreter": {
   "hash": "dff1176a825098967b08dbdbf002aed5f4d2fbc0230cbe7a7b9c071948b7fba3"
  },
  "kernelspec": {
   "display_name": "Python 3.8.12 64-bit ('alteryx': conda)",
   "language": "python",
   "name": "python3"
  },
  "language_info": {
   "codemirror_mode": {
    "name": "ipython",
    "version": 3
   },
   "file_extension": ".py",
   "mimetype": "text/x-python",
   "name": "python",
   "nbconvert_exporter": "python",
   "pygments_lexer": "ipython3",
   "version": "3.8.12"
  },
  "orig_nbformat": 4
 },
 "nbformat": 4,
 "nbformat_minor": 2
}
