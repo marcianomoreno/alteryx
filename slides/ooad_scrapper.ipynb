{
 "cells": [
  {
   "cell_type": "markdown",
   "id": "d67b1278",
   "metadata": {
    "slideshow": {
     "slide_type": "slide"
    }
   },
   "source": [
    "# Proceso de desarrollo de software\n",
    "* Especificación de requerimientos.\n",
    "* Análisis.\n",
    "* Diseño.\n",
    "* Implementación.\n",
    "* Pruebas."
   ]
  },
  {
   "cell_type": "markdown",
   "id": "1a1acce1",
   "metadata": {
    "slideshow": {
     "slide_type": "slide"
    }
   },
   "source": [
    "# UML\n",
    "* Unified Modelling Language, estándar de la industria para ingeniería de software orientada a objetos.\n",
    "* [Especificación de la versión 2.5.1](https://www.omg.org/spec/UML/2.5.1/PDF).\n",
    "* [UML](https://www.uml.org/).\n",
    "* UML provee de técnicas de notación gráfica para crear modelos visuales de sistemas de software orientados a objetos.\n",
    "\n"
   ]
  },
  {
   "cell_type": "markdown",
   "id": "69022ea7",
   "metadata": {
    "slideshow": {
     "slide_type": "slide"
    }
   },
   "source": [
    "# Categorías de diagramas UML (2.x)\n",
    "* Estructura.\n",
    "* Comportamiento.\n",
    "* Interacciones."
   ]
  },
  {
   "cell_type": "markdown",
   "id": "6f1e3ef5",
   "metadata": {
    "slideshow": {
     "slide_type": "slide"
    }
   },
   "source": [
    " # Desarrollo de sistemas\n",
    "* El desarrollo de sistemas ocupa la construcción de modelos para:\n",
    "* Gestionar la complejidad de proyectos grandes.\n",
    "* Aporta mayor precisión a la comunicación linguística entre equipos y personas.\n",
    "* Los modelos son representaciones estándar y son precisas y confiables.\n",
    "* Existen modelos para cada etapa del proceso de desarrollo de software.\n"
   ]
  },
  {
   "cell_type": "markdown",
   "id": "65a4d5bf",
   "metadata": {
    "slideshow": {
     "slide_type": "slide"
    }
   },
   "source": [
    "# Tipos de modelos\n",
    "| Modelo | Aplicación |\n",
    "| --- | --- |\n",
    "| Requerimientos | Requerimientos del usuario y funcionalidad |\n",
    "| Análisis | Especificaciones de sistema, estructura y componentes |\n",
    "| Diseño | Estructura refinada para el entorno de implementación actual |\n",
    "| Implementación | Detalles de cómo se implementa el diseño |\n",
    "| Pruebas | Verificación, validación |"
   ]
  },
  {
   "cell_type": "markdown",
   "id": "4cd69efb",
   "metadata": {
    "slideshow": {
     "slide_type": "slide"
    }
   },
   "source": [
    "# Retos en Web Scraping\n",
    "* Requiere de técnicas más sofisticadas.\n",
    "* Limitado o bloqueado por los dueños de los sitios Web.\n",
    "* Soportado formalmente o admitido de informalmente (APIs vs HTML).\n",
    "* HTML es semiestructurado.\n"
   ]
  },
  {
   "cell_type": "markdown",
   "id": "176dc3d5",
   "metadata": {
    "slideshow": {
     "slide_type": "slide"
    }
   },
   "source": [
    "# Técnicas actuales de Web Scraping\n",
    "* Identificación de patrones de texto.\n",
    "* Parsing de HTML y DOM.\n",
    "* Reconocimiento de texto por medio de Machine Learning y visión computacional."
   ]
  },
  {
   "cell_type": "code",
   "execution_count": null,
   "id": "5b3ea6cb",
   "metadata": {
    "slideshow": {
     "slide_type": "slide"
    }
   },
   "outputs": [],
   "source": [
    "# Implicaciones para Web Scraping de las aplicaciones Web modernas\n",
    "* Separación de las capas de presentación y datos (Angular, React etc.).\n",
    "* Liberías de JavaScript ofuscan el contenido de interés para los Web Scrapers.\n",
    "* Incremento en el número de peticiones para desplegar una sola página Web.\n",
    "* Uso de un navegador Web para extraer información de sitios Web modernos => Mayor consumo de recursos."
   ]
  },
  {
   "cell_type": "markdown",
   "id": "72c5dbc5",
   "metadata": {
    "slideshow": {
     "slide_type": "slide"
    }
   },
   "source": [
    "# Prevención de extracción de datos automatizada de sitios Web\n",
    "* robots.txt.\n",
    "* CAPTCHA, reCAPTCHA, NoCAPTCHA.\n",
    "* Ofuscación de datos sensitivos con imágenes en vez de texto => componentes OCR.\n",
    "* Bloqueo de IPs => crawl politeness, fake user agents, proxy services.\n",
    "* 2FA."
   ]
  },
  {
   "cell_type": "markdown",
   "id": "a05f97d4",
   "metadata": {
    "slideshow": {
     "slide_type": "slide"
    }
   },
   "source": [
    "# Arquitecturas y técnicas de Web Scraping\n",
    "* Análisis estructural.\n",
    "* Identificación de tags HTML, selectores de CSS y DOM, meta-tags, APIs."
   ]
  },
  {
   "cell_type": "markdown",
   "id": "d5a43718",
   "metadata": {
    "slideshow": {
     "slide_type": "slide"
    }
   },
   "source": [
    "# Selección de lenguajes de programación, librerías y entornos\n",
    "* BeautifulSoup (Python), rvest (R), cURL (PHP), jsoup (Java).\n",
    "* Reto: Soporte a interfaces web modernas.\n",
    "* Herramientas de automatización de browsers: Selenium, Puppeteer."
   ]
  },
  {
   "cell_type": "markdown",
   "id": "b7269b0d",
   "metadata": {
    "slideshow": {
     "slide_type": "slide"
    }
   },
   "source": [
    "# Elementos de arquitectura de un Web Scraper\n",
    "* Script central (calendarización de tareas, solicitudes HTTP, flujo de usuarios).\n",
    "* Lista de URL y otras entradas.\n",
    "* Librería de drivers Web.\n",
    "* Navegador Web.\n",
    "* Archivo DOM.\n",
    "* Extractor de datos (web semántico: microdata, LSON-LD, shortcuts: variables JS, XHRs, parser DOM: selectores, reconocimiento de patrones).\n",
    "* Formato de datos estructurados."
   ]
  },
  {
   "cell_type": "markdown",
   "id": "9a392586",
   "metadata": {
    "slideshow": {
     "slide_type": "slide"
    }
   },
   "source": [
    "# Conceptos\n",
    "* Microdata: Especificación empleada para insertar metadatos a contenido existente en páginas Web. \n",
    "* JSON-LD: JavaScript Object Notation for Linked Data.\n",
    "* XHRs: XML HTTP Requests."
   ]
  },
  {
   "cell_type": "markdown",
   "id": "dd5d1ac5",
   "metadata": {
    "slideshow": {
     "slide_type": "slide"
    }
   },
   "source": [
    "# Calendarizador de tareas\n",
    "* Parte del script que inicia los métodos de carga de página después de leer las URLs de la entrada.\n",
    "* Inserción de delays para simular comportamiento humano.\n",
    "* Comportamiento de Web Crawler si la lista de URL de entradas se actualiza dinámicamente como consecuencia de los datos recuperados por medio del proceso de web scaping.\n"
   ]
  },
  {
   "cell_type": "markdown",
   "id": "9d63d156",
   "metadata": {
    "slideshow": {
     "slide_type": "slide"
    }
   },
   "source": [
    "# Extractor de datos\n",
    "* El browser obtiene una página Web\n",
    "* La representación del DOM se hace disponible. \n",
    "* Los datos pueden extraerse inmediátamente o almacenarse en formatos como XML para procesamiento posterior."
   ]
  },
  {
   "cell_type": "markdown",
   "id": "38db11c1",
   "metadata": {
    "slideshow": {
     "slide_type": "slide"
    }
   },
   "source": [
    "# DOM Parsing\n",
    "* Navegar por medio de la estructura de árbol del modelo para buscar nodos preidentificados para extraer los elementos de dato objetivo.\n",
    "* Selenium y Puppeteer cuenta con métodos para realizar este tipo de tareas."
   ]
  },
  {
   "cell_type": "markdown",
   "id": "a56151cc",
   "metadata": {
    "slideshow": {
     "slide_type": "slide"
    }
   },
   "source": [
    "# Optimizaciones en el acceso a información\n",
    "* Obtención de información por medio de Google Knowledge Graph.\n",
    "* Acceso a meta-vocabulario en el cuerpo de páginas Web o en procesos de transferencia de datos JSON Linked Data.\n",
    "* Implementaciuón de procesos no supervisados de crawling por medio de em sitios Web que implementen el vocabulario de schema.org.\n",
    "* Análisis de una página objetivo, identificando APIs de tipo XMLHttpRequests (XHRs) que recuperen información de APIs\n",
    "* Almacenamiento de información obtenida e interpetada a un formato de almacenamiento estructurado. "
   ]
  },
  {
   "cell_type": "markdown",
   "id": "bcab2ce4",
   "metadata": {
    "slideshow": {
     "slide_type": "slide"
    }
   },
   "source": [
    "# Referencias\n",
    "* Applying UML and patterns by Craig Larman.\n",
    "* Object-Oriented Software Engineering a use case driven approach (revised edition) by Ivar Jacobson.\n",
    "* UML Distilled (2nd Edition) by Martin Fowler.\n",
    "* Software Engineering (4th Edition) by Ian Sommerville.\n",
    "* Practical Software Engineering by Leszek A Maciaszek and Bruc Lee Liong.\n"
   ]
  }
 ],
 "metadata": {
  "celltoolbar": "Slideshow",
  "kernelspec": {
   "display_name": "Python 3 (ipykernel)",
   "language": "python",
   "name": "python3"
  },
  "language_info": {
   "codemirror_mode": {
    "name": "ipython",
    "version": 3
   },
   "file_extension": ".py",
   "mimetype": "text/x-python",
   "name": "python",
   "nbconvert_exporter": "python",
   "pygments_lexer": "ipython3",
   "version": "3.8.12"
  }
 },
 "nbformat": 4,
 "nbformat_minor": 5
}
