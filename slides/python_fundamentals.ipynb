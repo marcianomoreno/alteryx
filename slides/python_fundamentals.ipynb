{
 "cells": [
  {
   "cell_type": "markdown",
   "metadata": {
    "slideshow": {
     "slide_type": "slide"
    }
   },
   "source": [
    "# Fundamentos de Python"
   ]
  },
  {
   "cell_type": "markdown",
   "metadata": {
    "slideshow": {
     "slide_type": "slide"
    }
   },
   "source": []
  },
  {
   "cell_type": "markdown",
   "metadata": {
    "slideshow": {
     "slide_type": "slide"
    }
   },
   "source": [
    "# Python versión 3 - Vistas e iteradores en vez de listas\n",
    "* Los métodos `dict.keys()`, `dict.items()` y `dict.values()` regresan \"vistas\" en vez de listas.\n",
    "* Se nueve `reduce` a `functools`. `map` y `filter` \n",
    "* `map()` y `filter()` regresan iteradores en vez de listas. Se recomienda usar list comprehension o reescribir el código para prescindir de las listas.\n",
    "* `range()` ahora se comporta como `xrange()` solía comportarse y ahora trabaja con valores de tamaño arbitrario.\n",
    "* `zip()` ahora regresa un iterador."
   ]
  },
  {
   "cell_type": "markdown",
   "metadata": {
    "slideshow": {
     "slide_type": "slide"
    }
   },
   "source": [
    "# Python 3 - Comparaciones de ordenamiento\n",
    "Se simplifican las reglas para comparaciones de ordenamiento\n",
    "* Los operadores de comparación de ordenamiento (`<`, `<=`, `>=`, `>`) levantan un TypeException cuando los operadores no tienen un ordenamiento natural significativo.\n",
    "* `builtin.sorted()` y `list.sort()` no aceptan el argumento cmp con una función de comparación. Debe usarse el argumento key.\n",
    "* La función `__lt__()`, debe emplearse para ordenar con `__eq__()`, `__hash__()` y otras funciones como sea necesario. La función `cmp()` ya no debe emplearse.\n"
   ]
  },
  {
   "cell_type": "markdown",
   "metadata": {
    "slideshow": {
     "slide_type": "slide"
    }
   },
   "source": [
    "# Python 3 - Enteros"
   ]
  },
  {
   "cell_type": "markdown",
   "metadata": {
    "slideshow": {
     "slide_type": "slide"
    }
   },
   "source": [
    "# Python 3 - Texto vs datos en vez de Unicode vs 8-bit\n",
    "* "
   ]
  },
  {
   "cell_type": "markdown",
   "metadata": {
    "slideshow": {
     "slide_type": "-"
    }
   },
   "source": []
  }
 ],
 "metadata": {
  "celltoolbar": "Slideshow",
  "interpreter": {
   "hash": "dff1176a825098967b08dbdbf002aed5f4d2fbc0230cbe7a7b9c071948b7fba3"
  },
  "kernelspec": {
   "display_name": "Python 3 (ipykernel)",
   "language": "python",
   "name": "python3"
  },
  "language_info": {
   "codemirror_mode": {
    "name": "ipython",
    "version": 3
   },
   "file_extension": ".py",
   "mimetype": "text/x-python",
   "name": "python",
   "nbconvert_exporter": "python",
   "pygments_lexer": "ipython3",
   "version": "3.8.12"
  }
 },
 "nbformat": 4,
 "nbformat_minor": 2
}
