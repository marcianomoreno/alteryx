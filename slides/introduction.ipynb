{
 "cells": [
  {
   "cell_type": "markdown",
   "metadata": {
    "slideshow": {
     "slide_type": "slide"
    }
   },
   "source": [
    "# Introducción a Python"
   ]
  },
  {
   "cell_type": "markdown",
   "metadata": {
    "slideshow": {
     "slide_type": "slide"
    }
   },
   "source": [
    "# Antecedentes\n",
    "* Lenguaje multiparadigma (procedural, orientado a objetos, funcional).\n",
    "* Diseñado e implementado a finales de la década de 1980 por Guido van Rossum.\n",
    "* van Rossum fue parte del equipo de implementación de ABC para Amobea, un sistema operativo distribuido en Centrum voor Wiskunde en Informatica (CWI) ubicado en Ámsterdam, Holanda.\n",
    "* ABC es un lenguaje de programación general.\n",
    "* van Rossum buscó diseñar un lenguaje de scripting con las mejores propiedades y sin los problemas de ABC.\n",
    "* Las primeras incepciones contaban con una máquina virtual, un parser y un entorno de ejecución.\n"
   ]
  },
  {
   "cell_type": "markdown",
   "metadata": {
    "slideshow": {
     "slide_type": "slide"
    }
   },
   "source": [
    "# El intérprete de Python (interactivo)\n",
    "\n",
    "```\n",
    "Python 3.8.12 (default, Oct 12 2021, 03:01:40) [MSC v.1916 64 bit (AMD64)] :: Anaconda, Inc. on win32\n",
    "Type \"help\", \"copyright\", \"credits\" or \"license\" for more information.\n",
    ">>> help()\n",
    "```\n"
   ]
  },
  {
   "cell_type": "code",
   "execution_count": 1,
   "metadata": {
    "slideshow": {
     "slide_type": "slide"
    }
   },
   "outputs": [
    {
     "name": "stdout",
     "output_type": "stream",
     "text": [
      "\n",
      "Welcome to Python 3.8's help utility!\n",
      "\n",
      "If this is your first time using Python, you should definitely check out\n",
      "the tutorial on the Internet at https://docs.python.org/3.8/tutorial/.\n",
      "\n",
      "Enter the name of any module, keyword, or topic to get help on writing\n",
      "Python programs and using Python modules.  To quit this help utility and\n",
      "return to the interpreter, just type \"quit\".\n",
      "\n",
      "To get a list of available modules, keywords, symbols, or topics, type\n",
      "\"modules\", \"keywords\", \"symbols\", or \"topics\".  Each module also comes\n",
      "with a one-line summary of what it does; to list the modules whose name\n",
      "or summary contain a given string such as \"spam\", type \"modules spam\".\n",
      "\n",
      "help> quit\n",
      "\n",
      "You are now leaving help and returning to the Python interpreter.\n",
      "If you want to ask for help on a particular object directly from the\n",
      "interpreter, you can type \"help(object)\".  Executing \"help('string')\"\n",
      "has the same effect as typing a particular string at the help> prompt.\n"
     ]
    }
   ],
   "source": [
    "help()"
   ]
  },
  {
   "cell_type": "markdown",
   "metadata": {
    "slideshow": {
     "slide_type": "slide"
    }
   },
   "source": [
    "# El intérprete de Python (scripts)\n",
    "```\n",
    "python hello.py\n",
    "Hello world!\n",
    "```\n"
   ]
  },
  {
   "cell_type": "code",
   "execution_count": 17,
   "metadata": {
    "slideshow": {
     "slide_type": "slide"
    }
   },
   "outputs": [
    {
     "name": "stdout",
     "output_type": "stream",
     "text": [
      "1\n",
      "Hi\n"
     ]
    }
   ],
   "source": [
    "# Python es un lenguaje interpretado y dinámico\n",
    "a = 1\n",
    "print(a)\n",
    "a =  \"Hi\"\n",
    "print(a)"
   ]
  },
  {
   "cell_type": "code",
   "execution_count": 18,
   "metadata": {
    "slideshow": {
     "slide_type": "slide"
    }
   },
   "outputs": [
    {
     "name": "stdout",
     "output_type": "stream",
     "text": [
      "Hello World!\n"
     ]
    }
   ],
   "source": [
    "# Los bloques de código se definen por indentación, en vez de llaves u otros símbolos\n",
    "def hello(name):\n",
    "    print(\"Hello {}!\".format(name))\n",
    "\n",
    "hello(\"World\")\n"
   ]
  },
  {
   "cell_type": "code",
   "execution_count": 19,
   "metadata": {
    "slideshow": {
     "slide_type": "slide"
    }
   },
   "outputs": [],
   "source": [
    "# Python soporta tipos de datos básicos\n",
    "\n",
    "name = \"Marciano Moreno\"\n",
    "developer = True\n",
    "year_of_birth = 1972\n",
    "height = 1.78\n",
    "hobbies = [\"running\", \"reading\", \"drumming\"]\n",
    "languages = {\"English\": \"fluent\", \"Spanish\": \"native\"}"
   ]
  },
  {
   "cell_type": "code",
   "execution_count": 20,
   "metadata": {
    "slideshow": {
     "slide_type": "slide"
    }
   },
   "outputs": [
    {
     "name": "stdout",
     "output_type": "stream",
     "text": [
      "M\n",
      "reading\n"
     ]
    }
   ],
   "source": [
    "# Las listas, strings, tuplas son tipos secuenciales\n",
    "# Sus elementos se encuentran ordenados y se acceden por medio de índices\n",
    "print(name[0])\n",
    "print(hobbies[1])\n"
   ]
  },
  {
   "cell_type": "markdown",
   "metadata": {
    "slideshow": {
     "slide_type": "slide"
    }
   },
   "source": [
    "# Características esenciales\n",
    "* Sintaxis limpia (evita el uso de llaves para identificar bloque de código).\n",
    "* Amplia librería estándar da soporte a escenarios frecuentes de programación (Web, texto, archivos).\n",
    "* Productividad por medio de intérprete y ambientes integrados de desarrollo.\n",
    "* Extensible por medio de módulos implementados en otros lenguajes (C, C++).\n",
    "* Integrable a aplicaciones para proveer de una interfaz programática.\n",
    "* Multiplataforma: Unix, Linux, MacOS, Windows.\n",
    "* Licencia Open Source.\n"
   ]
  },
  {
   "cell_type": "markdown",
   "metadata": {
    "slideshow": {
     "slide_type": "slide"
    }
   },
   "source": [
    "# Características de programación\n",
    "* Tipos de dato base: numéricos, cadenas de caracteres, listas y diccionarios.\n",
    "* Soporte a programación orientada objetos.\n",
    "* Agrupación de código en módulos y paquetes.\n",
    "* Manejo de excepciones (raise/catch).\n",
    "* Tipos de datos dinámicos.\n",
    "* Soporte a generadores y list comprehensions.\n",
    "* Gestión automática de memoria."
   ]
  },
  {
   "cell_type": "markdown",
   "metadata": {
    "slideshow": {
     "slide_type": "slide"
    }
   },
   "source": [
    "# Python 0.9.0\n",
    "* Publicado en alt.sources en febrero de 1991.\n",
    "* Características: clases con herencia, manejo de excepciones, funciones, tipos de datos `list`, `dict`, `str`\n",
    "* Sistema de módulos (inspirado en Modula-3).\n"
   ]
  },
  {
   "cell_type": "markdown",
   "metadata": {
    "slideshow": {
     "slide_type": "slide"
    }
   },
   "source": [
    "# Python versión 1\n",
    "* Desarrollado y soportado entre enero de 1994 y septiembre de 2000.\n",
    "* Características: herramientas de programación funcional `lambda`, `map` y `reduce` inspiradas en Lisp.\n",
    "* Argumentos de tipo keyword.\n",
    "* Soporte a números complejos.\n",
    "* Iniciativa Computer Programming for Everyone (CP4E) financiada por DARPA.\n"
   ]
  },
  {
   "cell_type": "markdown",
   "metadata": {
    "slideshow": {
     "slide_type": "slide"
    }
   },
   "source": [
    "# Python versión 2\n",
    "* Desarrollado y soportado entre octubre de 2000 y enero de 2020.\n",
    "* List comprehensions (inspiradas en SETL y Haskell).\n",
    "* Integración de tipos de datos y clases en una sola jerarquía.\n",
    "* Generadores (inspirados en Icon).\n",
    "* Estatutos `with`."
   ]
  },
  {
   "cell_type": "markdown",
   "metadata": {
    "slideshow": {
     "slide_type": "slide"
    }
   },
   "source": [
    "# Python versión 3\n",
    "* Rectificación de defectos de diseño.\n",
    "* Ruptura de compatibilidad con Python versiones 2 y anteriores en diversas facetas.\n",
    "* Se introduce función `print('x')` reemplazando al estatuto `print 'x'`\n",
    "* Vistas e iteradores en vez de listas.\n",
    "* Comparaciones de ordenamiento.\n",
    "* Enteros.\n",
    "* Texto vs datos en vez de Unicode vs 8-bit.\n",
    "* `input` eliminada."
   ]
  },
  {
   "cell_type": "markdown",
   "metadata": {
    "slideshow": {
     "slide_type": "slide"
    }
   },
   "source": [
    "# Implementaciones de Python\n",
    "* CPython es la implementación estándar del lenguaje escrita en lenguaje C.\n",
    "    * Administrada por Python Software Foundation.\n",
    "* Existen otras implementaciones:\n",
    "    * IronPython (Python corriendo en .NET).\n",
    "    * Jython (Python corriendo en una máquina virtual de Java).\n",
    "    * PyPy (Una implementación de Python con un compilador JIT).\n",
    "    * Stackless Python (Una rama de CPython con soporte a microthreads).\n",
    "    * MicroPython (Python corriendo en micro controladores).\n",
    "    "
   ]
  },
  {
   "cell_type": "markdown",
   "metadata": {
    "slideshow": {
     "slide_type": "slide"
    }
   },
   "source": [
    "# Distribuciones de Python\n",
    "Con más librerías o  especializadas para aplicaciones particulares:\n",
    "* Anaconda Python (distribución completa de Python para gestión de datos, análisis y visualización de datasets grandes)\n",
    "* pythonics (distribución de Python orientada a aplicaciones científicas).\n",
    "* eGenix PyRun (entorno de ejecución portable de Python, congelado en un archivo ejecutable de 3.5 MB - 13 MB)\n",
    "Para proveer y ejecutar Python en la nube:\n",
    "* PythonAnywhere (permite ejecutar Python en un navegador, para tutoriales, demostraciones, etc.)\n"
   ]
  },
  {
   "cell_type": "markdown",
   "metadata": {
    "slideshow": {
     "slide_type": "slide"
    }
   },
   "source": [
    "# PyPA - Python Packaging Authority\n",
    "Grupo de trabajo que mantiene el conjunto central de proyectos empleados para gestionar paquetes de Python.\n",
    "\n",
    "\n",
    "\n"
   ]
  },
  {
   "cell_type": "markdown",
   "metadata": {
    "slideshow": {
     "slide_type": "slide"
    }
   },
   "source": [
    "# PyPI - Python Package Index\n",
    "Repositorio de software para el lenguaje de programación Python"
   ]
  },
  {
   "cell_type": "markdown",
   "metadata": {
    "slideshow": {
     "slide_type": "slide"
    }
   },
   "source": [
    "# Package Managers\n",
    "Un package manager es una colección de herrarmientas de software que automatizan el proceso de instalar, actualizar, configurar y eliminar programas de computadora de forma consistente.\n",
    "* Los package manager modernos cuentan con resolución automática de dependencias.\n",
    "* Homebrew (package manager para macOS).\n",
    "* apt (package manager para distribuciones Linux basadas en Debian).\n",
    "* winget (utilería CLI  del Windows Package Manager).\n",
    "* pip (el package manager para Python recomendado por PyPA).\n",
    "* conda (gestiona paquetes, dependencias y entornos, multiplataforma, multilenguaje)."
   ]
  },
  {
   "cell_type": "markdown",
   "metadata": {
    "slideshow": {
     "slide_type": "slide"
    }
   },
   "source": [
    "# Ambientes virtuales y paquetes en Python\n",
    "* Las aplicaciones Python frecuentemente usan paquetes y módulos que no forman parte de la librería estándar.\n",
    "* Las aplicaciones podrían requerir una versión específica de una librería.\n",
    "* pip es el programa preferido por PyPA de instalación.\n",
    "* Un ambiente virtual es un ambiente semi aislado de Python que permite usar paquetes a nivel aplicación, en vez de sistema.\n",
    "* `venv` es la herramienta estándar para crear ambientes virtuales que se incluye desde Python 3.4\n",
    "* `virtualenv` es una herramienta de terceros que permite crear ambientes virtuales en versiones de Python previas a 3.4. "
   ]
  },
  {
   "cell_type": "markdown",
   "metadata": {
    "slideshow": {
     "slide_type": "slide"
    }
   },
   "source": [
    "# Source distribution vs wheel\n",
    "* Source distribution contiene código fuente, tanto código Python como código fuente de cualquier módulo de extensión (generalmente C o C++) incluido con el paquete. Con source distribution, los módulos de extensión se compilan del lado del usuario, en vez del desarrollador.\n",
    "* Un wheel es un tipo de distribución construida. El wheel se entrega en un formato listo para instalar, omitiendo el paso de construcción requerido por las distribuciones de código fuente."
   ]
  }
 ],
 "metadata": {
  "celltoolbar": "Slideshow",
  "interpreter": {
   "hash": "dff1176a825098967b08dbdbf002aed5f4d2fbc0230cbe7a7b9c071948b7fba3"
  },
  "kernelspec": {
   "display_name": "Python 3 (ipykernel)",
   "language": "python",
   "name": "python3"
  },
  "language_info": {
   "codemirror_mode": {
    "name": "ipython",
    "version": 3
   },
   "file_extension": ".py",
   "mimetype": "text/x-python",
   "name": "python",
   "nbconvert_exporter": "python",
   "pygments_lexer": "ipython3",
   "version": "3.8.12"
  },
  "widgets": {
   "application/vnd.jupyter.widget-state+json": {
    "state": {},
    "version_major": 2,
    "version_minor": 0
   }
  }
 },
 "nbformat": 4,
 "nbformat_minor": 2
}
